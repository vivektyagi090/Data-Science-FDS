{
  "nbformat": 4,
  "nbformat_minor": 0,
  "metadata": {
    "colab": {
      "name": "pg lab fds s2.ipynb",
      "provenance": [],
      "collapsed_sections": []
    },
    "kernelspec": {
      "name": "python3",
      "display_name": "Python 3"
    },
    "language_info": {
      "name": "python"
    }
  },
  "cells": [
    {
      "cell_type": "code",
      "metadata": {
        "id": "Z4Jz_eVltG00"
      },
      "source": [
        ""
      ],
      "execution_count": null,
      "outputs": []
    },
    {
      "cell_type": "markdown",
      "source": [
        "PG Lab 1- Session 2 - NumPy"
      ],
      "metadata": {
        "id": "EAmmDW98Q9Oy"
      }
    },
    {
      "cell_type": "code",
      "metadata": {
        "colab": {
          "base_uri": "https://localhost:8080/",
          "height": 35
        },
        "id": "X8UBtQqKtQ6L",
        "outputId": "53770ad2-73b8-4736-a21f-cf6dbbfce9e4"
      },
      "source": [
        "import numpy\n",
        "numpy.__version__"
      ],
      "execution_count": null,
      "outputs": [
        {
          "output_type": "execute_result",
          "data": {
            "application/vnd.google.colaboratory.intrinsic+json": {
              "type": "string"
            },
            "text/plain": [
              "'1.19.5'"
            ]
          },
          "metadata": {},
          "execution_count": 2
        }
      ]
    },
    {
      "cell_type": "code",
      "metadata": {
        "colab": {
          "base_uri": "https://localhost:8080/"
        },
        "id": "4R0sXdezt3uO",
        "outputId": "efbbce94-6b1f-4b51-de1f-df1b375326b5"
      },
      "source": [
        "list1=[]\n",
        "list1"
      ],
      "execution_count": null,
      "outputs": [
        {
          "output_type": "execute_result",
          "data": {
            "text/plain": [
              "[]"
            ]
          },
          "metadata": {},
          "execution_count": 3
        }
      ]
    },
    {
      "cell_type": "code",
      "metadata": {
        "colab": {
          "base_uri": "https://localhost:8080/"
        },
        "id": "E4bOPnMpuI2V",
        "outputId": "c7e46760-c88f-4280-af9d-f374c1f6a801"
      },
      "source": [
        "type(list1)"
      ],
      "execution_count": null,
      "outputs": [
        {
          "output_type": "execute_result",
          "data": {
            "text/plain": [
              "list"
            ]
          },
          "metadata": {},
          "execution_count": 4
        }
      ]
    },
    {
      "cell_type": "code",
      "metadata": {
        "colab": {
          "base_uri": "https://localhost:8080/"
        },
        "id": "7Ugj9HEDugZP",
        "outputId": "7367c17a-fd46-4ebf-fb7d-86458bfed956"
      },
      "source": [
        "list2=list(range(10))\n",
        "list2"
      ],
      "execution_count": null,
      "outputs": [
        {
          "output_type": "execute_result",
          "data": {
            "text/plain": [
              "[0, 1, 2, 3, 4, 5, 6, 7, 8, 9]"
            ]
          },
          "metadata": {},
          "execution_count": 5
        }
      ]
    },
    {
      "cell_type": "code",
      "metadata": {
        "colab": {
          "base_uri": "https://localhost:8080/"
        },
        "id": "Hhwo_hWCu1D_",
        "outputId": "d22b9957-72f1-46a4-fed1-68790af8e614"
      },
      "source": [
        "list3=[str(c)for c in list2]\n",
        "list3"
      ],
      "execution_count": null,
      "outputs": [
        {
          "output_type": "execute_result",
          "data": {
            "text/plain": [
              "['0', '1', '2', '3', '4', '5', '6', '7', '8', '9']"
            ]
          },
          "metadata": {},
          "execution_count": 6
        }
      ]
    },
    {
      "cell_type": "code",
      "metadata": {
        "colab": {
          "base_uri": "https://localhost:8080/"
        },
        "id": "o18qOF16vtvE",
        "outputId": "3cba3810-ae32-4883-a1bf-794a2b01bb89"
      },
      "source": [
        "list4=[1,1.0,'c','vivek',True]\n",
        "list4\n"
      ],
      "execution_count": null,
      "outputs": [
        {
          "output_type": "execute_result",
          "data": {
            "text/plain": [
              "[1, 1.0, 'c', 'vivek', True]"
            ]
          },
          "metadata": {},
          "execution_count": 7
        }
      ]
    },
    {
      "cell_type": "code",
      "metadata": {
        "colab": {
          "base_uri": "https://localhost:8080/"
        },
        "id": "lDmN2jyHvtsS",
        "outputId": "5d68147a-54b7-437c-eddf-801dcdbca62e"
      },
      "source": [
        "type(list4)\n"
      ],
      "execution_count": null,
      "outputs": [
        {
          "output_type": "execute_result",
          "data": {
            "text/plain": [
              "list"
            ]
          },
          "metadata": {},
          "execution_count": 8
        }
      ]
    },
    {
      "cell_type": "code",
      "metadata": {
        "colab": {
          "base_uri": "https://localhost:8080/"
        },
        "id": "72x8t0efvtoh",
        "outputId": "737a5538-1776-470d-eebb-4a87c353b472"
      },
      "source": [
        "# display data type of each element\n",
        "[type(item)for item in list4]"
      ],
      "execution_count": null,
      "outputs": [
        {
          "output_type": "execute_result",
          "data": {
            "text/plain": [
              "[int, float, str, str, bool]"
            ]
          },
          "metadata": {},
          "execution_count": 9
        }
      ]
    },
    {
      "cell_type": "code",
      "metadata": {
        "colab": {
          "base_uri": "https://localhost:8080/"
        },
        "id": "xEM6k1X3vtm2",
        "outputId": "890881de-420b-4474-ca1c-8fac29ff3276"
      },
      "source": [
        "#python array\n",
        "import array as ar \n",
        "L= list(range(10))\n",
        "A= ar.array('i',L)\n",
        "A"
      ],
      "execution_count": null,
      "outputs": [
        {
          "output_type": "execute_result",
          "data": {
            "text/plain": [
              "array('i', [0, 1, 2, 3, 4, 5, 6, 7, 8, 9])"
            ]
          },
          "metadata": {},
          "execution_count": 10
        }
      ]
    },
    {
      "cell_type": "code",
      "metadata": {
        "colab": {
          "base_uri": "https://localhost:8080/"
        },
        "id": "8aJI5Gy4yPxO",
        "outputId": "899211a5-265d-4b17-8d43-4d5f90077d63"
      },
      "source": [
        "#numpyArray\n",
        "import numpy as np\n",
        "np.array([1,2,3,4])"
      ],
      "execution_count": null,
      "outputs": [
        {
          "output_type": "execute_result",
          "data": {
            "text/plain": [
              "array([1, 2, 3, 4])"
            ]
          },
          "metadata": {},
          "execution_count": 11
        }
      ]
    },
    {
      "cell_type": "code",
      "metadata": {
        "colab": {
          "base_uri": "https://localhost:8080/"
        },
        "id": "Tf2-sjSLzBkM",
        "outputId": "5dd6074e-1441-4f07-fb0a-1b9a1b146e4c"
      },
      "source": [
        "#automatic conversion /implict of value /element\n",
        "np.array([10.1,3,5,4])"
      ],
      "execution_count": null,
      "outputs": [
        {
          "output_type": "execute_result",
          "data": {
            "text/plain": [
              "array([10.1,  3. ,  5. ,  4. ])"
            ]
          },
          "metadata": {},
          "execution_count": 12
        }
      ]
    },
    {
      "cell_type": "code",
      "metadata": {
        "colab": {
          "base_uri": "https://localhost:8080/"
        },
        "id": "w6bxjaRzzBQ8",
        "outputId": "173b7ab6-e108-47b5-b3c9-55a0975dc170"
      },
      "source": [
        "#explicit coversion/\n",
        "np.array([1,2,3,4], dtype='float32')"
      ],
      "execution_count": null,
      "outputs": [
        {
          "output_type": "execute_result",
          "data": {
            "text/plain": [
              "array([1., 2., 3., 4.], dtype=float32)"
            ]
          },
          "metadata": {},
          "execution_count": 13
        }
      ]
    },
    {
      "cell_type": "code",
      "metadata": {
        "id": "OfI1xX3QyPOW",
        "colab": {
          "base_uri": "https://localhost:8080/"
        },
        "outputId": "2b6a560d-94fd-46e4-b0f6-ebe41c7edab5"
      },
      "source": [
        "#[[,,],[,,],[,,]]\n",
        "#insted list result in multi-dimenstional arrays\n",
        "np.array([range(i,i+3)for i in [2,4,6]])"
      ],
      "execution_count": null,
      "outputs": [
        {
          "output_type": "execute_result",
          "data": {
            "text/plain": [
              "array([[2, 3, 4],\n",
              "       [4, 5, 6],\n",
              "       [6, 7, 8]])"
            ]
          },
          "metadata": {},
          "execution_count": 14
        }
      ]
    },
    {
      "cell_type": "code",
      "metadata": {
        "colab": {
          "base_uri": "https://localhost:8080/"
        },
        "id": "iwaRvmwLrfdL",
        "outputId": "76de2cdc-37f3-45a2-cc6d-78a3a27ca1f7"
      },
      "source": [
        "#creat a length=10 integer array filled with zero\n",
        "np.zeros(10, dtype=int)"
      ],
      "execution_count": null,
      "outputs": [
        {
          "output_type": "execute_result",
          "data": {
            "text/plain": [
              "array([0, 0, 0, 0, 0, 0, 0, 0, 0, 0])"
            ]
          },
          "metadata": {},
          "execution_count": 15
        }
      ]
    },
    {
      "cell_type": "code",
      "metadata": {
        "colab": {
          "base_uri": "https://localhost:8080/"
        },
        "id": "pHDz-lC8rfQx",
        "outputId": "39a13269-3130-42d8-ab55-9e90f670f34d"
      },
      "source": [
        "#creat a arrays of zeros of float type\n",
        "np.zeros((2,5),dtype=float)"
      ],
      "execution_count": null,
      "outputs": [
        {
          "output_type": "execute_result",
          "data": {
            "text/plain": [
              "array([[0., 0., 0., 0., 0.],\n",
              "       [0., 0., 0., 0., 0.]])"
            ]
          },
          "metadata": {},
          "execution_count": 16
        }
      ]
    },
    {
      "cell_type": "code",
      "metadata": {
        "colab": {
          "base_uri": "https://localhost:8080/"
        },
        "id": "4gh1ElYErfFK",
        "outputId": "02987f4b-d0b4-4255-d9aa-763824966a8b"
      },
      "source": [
        "#creat a array of ones of float type\n",
        "np.ones((2,5),dtype=float) "
      ],
      "execution_count": null,
      "outputs": [
        {
          "output_type": "execute_result",
          "data": {
            "text/plain": [
              "array([[1., 1., 1., 1., 1.],\n",
              "       [1., 1., 1., 1., 1.]])"
            ]
          },
          "metadata": {},
          "execution_count": 17
        }
      ]
    },
    {
      "cell_type": "code",
      "metadata": {
        "colab": {
          "base_uri": "https://localhost:8080/"
        },
        "id": "sSb8Mimcreqe",
        "outputId": "33f24284-5927-4d57-e3c9-7c7c71361f69"
      },
      "source": [
        "#creat a 3x5 array filled with 3.0\n",
        "np.full((3,5),3.0)"
      ],
      "execution_count": null,
      "outputs": [
        {
          "output_type": "execute_result",
          "data": {
            "text/plain": [
              "array([[3., 3., 3., 3., 3.],\n",
              "       [3., 3., 3., 3., 3.],\n",
              "       [3., 3., 3., 3., 3.]])"
            ]
          },
          "metadata": {},
          "execution_count": 18
        }
      ]
    },
    {
      "cell_type": "code",
      "metadata": {
        "colab": {
          "base_uri": "https://localhost:8080/"
        },
        "id": "DpXeFgYouief",
        "outputId": "93b12af2-cecc-4d5a-d814-efbe439b6aac"
      },
      "source": [
        "#creat a array filled with a linear sequence\n",
        "#starting at 0, ending at 20, stepping by 2\n",
        "# (this is similarr to the built-in range() function)\n",
        "\n",
        "\n",
        "np.arange(0,20,2)"
      ],
      "execution_count": null,
      "outputs": [
        {
          "output_type": "execute_result",
          "data": {
            "text/plain": [
              "array([ 0,  2,  4,  6,  8, 10, 12, 14, 16, 18])"
            ]
          },
          "metadata": {},
          "execution_count": 19
        }
      ]
    },
    {
      "cell_type": "code",
      "metadata": {
        "id": "5uNAt0I6uiaj",
        "colab": {
          "base_uri": "https://localhost:8080/"
        },
        "outputId": "1c7497a4-5f1f-436c-a10a-3ec2173a17c8"
      },
      "source": [
        "#0 to 2 4 element\n",
        "#creat of an array  of evenly spaced values for the given range\n",
        "np.linspace(0,2,4)"
      ],
      "execution_count": null,
      "outputs": [
        {
          "output_type": "execute_result",
          "data": {
            "text/plain": [
              "array([0.        , 0.66666667, 1.33333333, 2.        ])"
            ]
          },
          "metadata": {},
          "execution_count": 20
        }
      ]
    },
    {
      "cell_type": "code",
      "metadata": {
        "id": "HsVbXSUHuiZC",
        "colab": {
          "base_uri": "https://localhost:8080/"
        },
        "outputId": "b58ac123-b261-4870-b98d-7a556e843206"
      },
      "source": [
        "\n",
        "#creat a 3x3 array of uniformly distributed\n",
        "#random value between  0 and 1\n",
        "np.random.normal((3,4))"
      ],
      "execution_count": null,
      "outputs": [
        {
          "output_type": "execute_result",
          "data": {
            "text/plain": [
              "array([[0.8039636 , 0.4490041 , 0.17665263, 0.8193335 ],\n",
              "       [0.85683291, 0.73919924, 0.60546061, 0.60543353],\n",
              "       [0.93734932, 0.70032474, 0.83855049, 0.07054732]])"
            ]
          },
          "metadata": {},
          "execution_count": 21
        }
      ]
    },
    {
      "cell_type": "code",
      "metadata": {
        "id": "QcKDdeA2uiUt",
        "colab": {
          "base_uri": "https://localhost:8080/"
        },
        "outputId": "487ce617-6ad4-459d-d589-756829b11fe9"
      },
      "source": [
        "#creat a 3x3 array of random integer in the interval (0,10)\n",
        "\n",
        "np.random.randint(0, 10, (3, 3))"
      ],
      "execution_count": null,
      "outputs": [
        {
          "output_type": "execute_result",
          "data": {
            "text/plain": [
              "array([[2, 3, 7],\n",
              "       [9, 2, 5],\n",
              "       [4, 5, 9]])"
            ]
          },
          "metadata": {},
          "execution_count": 29
        }
      ]
    },
    {
      "cell_type": "code",
      "metadata": {
        "id": "Zkqzz7omuiTM",
        "colab": {
          "base_uri": "https://localhost:8080/"
        },
        "outputId": "896c1a3a-0e36-4ea3-d777-9793d413f0af"
      },
      "source": [
        "#creat a 3x3 identity matrix\n",
        "\n",
        "np.eye(3)"
      ],
      "execution_count": null,
      "outputs": [
        {
          "output_type": "execute_result",
          "data": {
            "text/plain": [
              "array([[1., 0., 0.],\n",
              "       [0., 1., 0.],\n",
              "       [0., 0., 1.]])"
            ]
          },
          "metadata": {},
          "execution_count": 30
        }
      ]
    },
    {
      "cell_type": "code",
      "metadata": {
        "id": "3mYk9ccNuiOL",
        "colab": {
          "base_uri": "https://localhost:8080/"
        },
        "outputId": "0891cde6-e7e7-4b74-dcd7-d6a43e0a23c8"
      },
      "source": [
        "#creat an uninstallized array of three integers\n",
        "#the value will we whatever happens to already exstist at that memory location\n",
        "\n",
        "np.empty(3)"
      ],
      "execution_count": null,
      "outputs": [
        {
          "output_type": "execute_result",
          "data": {
            "text/plain": [
              "array([1., 1., 1.])"
            ]
          },
          "metadata": {},
          "execution_count": 31
        }
      ]
    },
    {
      "cell_type": "code",
      "metadata": {
        "id": "-TJuj7UBuiMn",
        "colab": {
          "base_uri": "https://localhost:8080/"
        },
        "outputId": "5add5afc-8fc6-4b89-a15f-ce66bc808b64"
      },
      "source": [
        "import numpy as np\n",
        "np.random.seed(40)# seed of reproducibilty\n",
        "\n",
        "x1 = np.random.randint(10, size=6) # one dimenstional array\n",
        "x1"
      ],
      "execution_count": null,
      "outputs": [
        {
          "output_type": "execute_result",
          "data": {
            "text/plain": [
              "array([6, 7, 5, 8, 8, 2])"
            ]
          },
          "metadata": {},
          "execution_count": 35
        }
      ]
    },
    {
      "cell_type": "code",
      "metadata": {
        "id": "tstWAl1vuh_s",
        "colab": {
          "base_uri": "https://localhost:8080/"
        },
        "outputId": "c97f387a-f829-46c6-8862-a7fd56ff4711"
      },
      "source": [
        "#seed 100 200 \n",
        "\n",
        "\n",
        "np.random.seed(100)\n",
        "x2=np.random.randint(200, size=(5,4,3,2,1))\n",
        "x2\n"
      ],
      "execution_count": null,
      "outputs": [
        {
          "output_type": "execute_result",
          "data": {
            "text/plain": [
              "array([[[[[  8],\n",
              "          [ 24]],\n",
              "\n",
              "         [[ 67],\n",
              "          [103]],\n",
              "\n",
              "         [[ 87],\n",
              "          [ 79]]],\n",
              "\n",
              "\n",
              "        [[[176],\n",
              "          [138]],\n",
              "\n",
              "         [[ 94],\n",
              "          [180]],\n",
              "\n",
              "         [[ 98],\n",
              "          [ 53]]],\n",
              "\n",
              "\n",
              "        [[[ 66],\n",
              "          [ 14]],\n",
              "\n",
              "         [[ 34],\n",
              "          [ 24]],\n",
              "\n",
              "         [[143],\n",
              "          [107]]],\n",
              "\n",
              "\n",
              "        [[[ 60],\n",
              "          [ 58]],\n",
              "\n",
              "         [[144],\n",
              "          [137]],\n",
              "\n",
              "         [[ 93],\n",
              "          [ 86]]]],\n",
              "\n",
              "\n",
              "\n",
              "       [[[[130],\n",
              "          [155]],\n",
              "\n",
              "         [[108],\n",
              "          [132]],\n",
              "\n",
              "         [[159],\n",
              "          [129]]],\n",
              "\n",
              "\n",
              "        [[[141],\n",
              "          [100]],\n",
              "\n",
              "         [[  4],\n",
              "          [ 91]],\n",
              "\n",
              "         [[187],\n",
              "          [ 67]]],\n",
              "\n",
              "\n",
              "        [[[135],\n",
              "          [ 49]],\n",
              "\n",
              "         [[175],\n",
              "          [193]],\n",
              "\n",
              "         [[ 61],\n",
              "          [ 14]]],\n",
              "\n",
              "\n",
              "        [[[183],\n",
              "          [199]],\n",
              "\n",
              "         [[ 80],\n",
              "          [  2]],\n",
              "\n",
              "         [[121],\n",
              "          [105]]]],\n",
              "\n",
              "\n",
              "\n",
              "       [[[[147],\n",
              "          [ 63]],\n",
              "\n",
              "         [[181],\n",
              "          [ 27]],\n",
              "\n",
              "         [[ 56],\n",
              "          [113]]],\n",
              "\n",
              "\n",
              "        [[[158],\n",
              "          [176]],\n",
              "\n",
              "         [[ 47],\n",
              "          [167]],\n",
              "\n",
              "         [[109],\n",
              "          [ 38]]],\n",
              "\n",
              "\n",
              "        [[[172],\n",
              "          [ 18]],\n",
              "\n",
              "         [[192],\n",
              "          [184]],\n",
              "\n",
              "         [[162],\n",
              "          [181]]],\n",
              "\n",
              "\n",
              "        [[[ 17],\n",
              "          [ 72]],\n",
              "\n",
              "         [[ 13],\n",
              "          [106]],\n",
              "\n",
              "         [[ 30],\n",
              "          [ 17]]]],\n",
              "\n",
              "\n",
              "\n",
              "       [[[[ 53],\n",
              "          [ 68]],\n",
              "\n",
              "         [[178],\n",
              "          [ 91]],\n",
              "\n",
              "         [[181],\n",
              "          [ 78]]],\n",
              "\n",
              "\n",
              "        [[[  0],\n",
              "          [ 13]],\n",
              "\n",
              "         [[185],\n",
              "          [106]],\n",
              "\n",
              "         [[131],\n",
              "          [ 70]]],\n",
              "\n",
              "\n",
              "        [[[131],\n",
              "          [138]],\n",
              "\n",
              "         [[188],\n",
              "          [131]],\n",
              "\n",
              "         [[105],\n",
              "          [176]]],\n",
              "\n",
              "\n",
              "        [[[180],\n",
              "          [ 43]],\n",
              "\n",
              "         [[ 36],\n",
              "          [  5]],\n",
              "\n",
              "         [[ 71],\n",
              "          [ 38]]]],\n",
              "\n",
              "\n",
              "\n",
              "       [[[[ 94],\n",
              "          [170]],\n",
              "\n",
              "         [[ 84],\n",
              "          [ 95]],\n",
              "\n",
              "         [[114],\n",
              "          [119]]],\n",
              "\n",
              "\n",
              "        [[[ 76],\n",
              "          [ 33]],\n",
              "\n",
              "         [[ 58],\n",
              "          [102]],\n",
              "\n",
              "         [[170],\n",
              "          [150]]],\n",
              "\n",
              "\n",
              "        [[[  0],\n",
              "          [183]],\n",
              "\n",
              "         [[147],\n",
              "          [ 53]],\n",
              "\n",
              "         [[196],\n",
              "          [190]]],\n",
              "\n",
              "\n",
              "        [[[ 50],\n",
              "          [196]],\n",
              "\n",
              "         [[163],\n",
              "          [151]],\n",
              "\n",
              "         [[  9],\n",
              "          [176]]]]])"
            ]
          },
          "metadata": {},
          "execution_count": 37
        }
      ]
    },
    {
      "cell_type": "code",
      "metadata": {
        "colab": {
          "base_uri": "https://localhost:8080/"
        },
        "id": "Jgd1If7bQeM0",
        "outputId": "2e761afd-f68c-47ab-eeea-9bc7973607ce"
      },
      "source": [
        "x2.shape"
      ],
      "execution_count": null,
      "outputs": [
        {
          "output_type": "execute_result",
          "data": {
            "text/plain": [
              "(5, 4, 3, 2, 1)"
            ]
          },
          "metadata": {},
          "execution_count": 38
        }
      ]
    },
    {
      "cell_type": "code",
      "metadata": {
        "colab": {
          "base_uri": "https://localhost:8080/"
        },
        "id": "gXLKtZgcQslo",
        "outputId": "a0676213-4e55-4711-b36e-40e2369292d8"
      },
      "source": [
        "x2.ndim"
      ],
      "execution_count": null,
      "outputs": [
        {
          "output_type": "execute_result",
          "data": {
            "text/plain": [
              "5"
            ]
          },
          "metadata": {},
          "execution_count": 39
        }
      ]
    },
    {
      "cell_type": "code",
      "metadata": {
        "colab": {
          "base_uri": "https://localhost:8080/"
        },
        "id": "8QrV8YJHQsYX",
        "outputId": "8c721ad0-15b8-4f23-ac03-6ef4d2a31533"
      },
      "source": [
        "x2.size"
      ],
      "execution_count": null,
      "outputs": [
        {
          "output_type": "execute_result",
          "data": {
            "text/plain": [
              "120"
            ]
          },
          "metadata": {},
          "execution_count": 40
        }
      ]
    },
    {
      "cell_type": "code",
      "metadata": {
        "colab": {
          "base_uri": "https://localhost:8080/"
        },
        "id": "V1BjBPAFRHpL",
        "outputId": "2e1546b9-330b-496b-fc24-d1400ee07f66"
      },
      "source": [
        "x2.nbytes"
      ],
      "execution_count": null,
      "outputs": [
        {
          "output_type": "execute_result",
          "data": {
            "text/plain": [
              "960"
            ]
          },
          "metadata": {},
          "execution_count": 43
        }
      ]
    },
    {
      "cell_type": "code",
      "metadata": {
        "colab": {
          "base_uri": "https://localhost:8080/"
        },
        "id": "d8qf_uSrQ8QB",
        "outputId": "0e98572d-8bd6-4f99-b861-af9ad1e60631"
      },
      "source": [
        "x2.itemsize"
      ],
      "execution_count": null,
      "outputs": [
        {
          "output_type": "execute_result",
          "data": {
            "text/plain": [
              "8"
            ]
          },
          "metadata": {},
          "execution_count": 41
        }
      ]
    }
  ]
}