{
  "nbformat": 4,
  "nbformat_minor": 0,
  "metadata": {
    "colab": {
      "name": "Data Loading from File.ipynb",
      "provenance": [],
      "collapsed_sections": []
    },
    "kernelspec": {
      "name": "python3",
      "display_name": "Python 3"
    },
    "language_info": {
      "name": "python"
    }
  },
  "cells": [
    {
      "cell_type": "code",
      "execution_count": null,
      "metadata": {
        "id": "oDXEw_vpYvLp"
      },
      "outputs": [],
      "source": [
        "import numpy as np\n",
        "import pandas as pd"
      ]
    },
    {
      "cell_type": "code",
      "source": [
        "df = pd.read_csv('/content/ex1.csv')\n",
        "df"
      ],
      "metadata": {
        "colab": {
          "base_uri": "https://localhost:8080/",
          "height": 143
        },
        "id": "_VbWgYzuY_g1",
        "outputId": "3ac7fde7-e89d-411b-ba4d-81d8d376d3e0"
      },
      "execution_count": null,
      "outputs": [
        {
          "output_type": "execute_result",
          "data": {
            "text/html": [
              "<div>\n",
              "<style scoped>\n",
              "    .dataframe tbody tr th:only-of-type {\n",
              "        vertical-align: middle;\n",
              "    }\n",
              "\n",
              "    .dataframe tbody tr th {\n",
              "        vertical-align: top;\n",
              "    }\n",
              "\n",
              "    .dataframe thead th {\n",
              "        text-align: right;\n",
              "    }\n",
              "</style>\n",
              "<table border=\"1\" class=\"dataframe\">\n",
              "  <thead>\n",
              "    <tr style=\"text-align: right;\">\n",
              "      <th></th>\n",
              "      <th>a</th>\n",
              "      <th>b</th>\n",
              "      <th>c</th>\n",
              "      <th>d</th>\n",
              "      <th>message</th>\n",
              "    </tr>\n",
              "  </thead>\n",
              "  <tbody>\n",
              "    <tr>\n",
              "      <th>0</th>\n",
              "      <td>1</td>\n",
              "      <td>2</td>\n",
              "      <td>3</td>\n",
              "      <td>4</td>\n",
              "      <td>hello</td>\n",
              "    </tr>\n",
              "    <tr>\n",
              "      <th>1</th>\n",
              "      <td>5</td>\n",
              "      <td>6</td>\n",
              "      <td>7</td>\n",
              "      <td>8</td>\n",
              "      <td>world</td>\n",
              "    </tr>\n",
              "    <tr>\n",
              "      <th>2</th>\n",
              "      <td>9</td>\n",
              "      <td>10</td>\n",
              "      <td>11</td>\n",
              "      <td>12</td>\n",
              "      <td>foo</td>\n",
              "    </tr>\n",
              "  </tbody>\n",
              "</table>\n",
              "</div>"
            ],
            "text/plain": [
              "   a   b   c   d message\n",
              "0  1   2   3   4   hello\n",
              "1  5   6   7   8   world\n",
              "2  9  10  11  12     foo"
            ]
          },
          "metadata": {},
          "execution_count": 13
        }
      ]
    },
    {
      "cell_type": "code",
      "source": [
        "df1=pd.read_table('/content/ex1.csv', sep=',')\n",
        "df1"
      ],
      "metadata": {
        "colab": {
          "base_uri": "https://localhost:8080/",
          "height": 143
        },
        "id": "ZKZr48wlY_c6",
        "outputId": "00efedc7-d5cb-4284-9bc3-cdf69f471d26"
      },
      "execution_count": null,
      "outputs": [
        {
          "output_type": "execute_result",
          "data": {
            "text/html": [
              "<div>\n",
              "<style scoped>\n",
              "    .dataframe tbody tr th:only-of-type {\n",
              "        vertical-align: middle;\n",
              "    }\n",
              "\n",
              "    .dataframe tbody tr th {\n",
              "        vertical-align: top;\n",
              "    }\n",
              "\n",
              "    .dataframe thead th {\n",
              "        text-align: right;\n",
              "    }\n",
              "</style>\n",
              "<table border=\"1\" class=\"dataframe\">\n",
              "  <thead>\n",
              "    <tr style=\"text-align: right;\">\n",
              "      <th></th>\n",
              "      <th>a</th>\n",
              "      <th>b</th>\n",
              "      <th>c</th>\n",
              "      <th>d</th>\n",
              "      <th>message</th>\n",
              "    </tr>\n",
              "  </thead>\n",
              "  <tbody>\n",
              "    <tr>\n",
              "      <th>0</th>\n",
              "      <td>1</td>\n",
              "      <td>2</td>\n",
              "      <td>3</td>\n",
              "      <td>4</td>\n",
              "      <td>hello</td>\n",
              "    </tr>\n",
              "    <tr>\n",
              "      <th>1</th>\n",
              "      <td>5</td>\n",
              "      <td>6</td>\n",
              "      <td>7</td>\n",
              "      <td>8</td>\n",
              "      <td>world</td>\n",
              "    </tr>\n",
              "    <tr>\n",
              "      <th>2</th>\n",
              "      <td>9</td>\n",
              "      <td>10</td>\n",
              "      <td>11</td>\n",
              "      <td>12</td>\n",
              "      <td>foo</td>\n",
              "    </tr>\n",
              "  </tbody>\n",
              "</table>\n",
              "</div>"
            ],
            "text/plain": [
              "   a   b   c   d message\n",
              "0  1   2   3   4   hello\n",
              "1  5   6   7   8   world\n",
              "2  9  10  11  12     foo"
            ]
          },
          "metadata": {},
          "execution_count": 17
        }
      ]
    },
    {
      "cell_type": "code",
      "source": [
        "df2=pd.read_csv('/content/ex2.csv', header=None, names=['a', 'b', 'c', 'd', 'message'])\n",
        "df2"
      ],
      "metadata": {
        "colab": {
          "base_uri": "https://localhost:8080/",
          "height": 143
        },
        "id": "V2LErN2UY_bI",
        "outputId": "6044c2d7-e738-4f7e-cad2-023cf651feb0"
      },
      "execution_count": null,
      "outputs": [
        {
          "output_type": "execute_result",
          "data": {
            "text/html": [
              "<div>\n",
              "<style scoped>\n",
              "    .dataframe tbody tr th:only-of-type {\n",
              "        vertical-align: middle;\n",
              "    }\n",
              "\n",
              "    .dataframe tbody tr th {\n",
              "        vertical-align: top;\n",
              "    }\n",
              "\n",
              "    .dataframe thead th {\n",
              "        text-align: right;\n",
              "    }\n",
              "</style>\n",
              "<table border=\"1\" class=\"dataframe\">\n",
              "  <thead>\n",
              "    <tr style=\"text-align: right;\">\n",
              "      <th></th>\n",
              "      <th>a</th>\n",
              "      <th>b</th>\n",
              "      <th>c</th>\n",
              "      <th>d</th>\n",
              "      <th>message</th>\n",
              "    </tr>\n",
              "  </thead>\n",
              "  <tbody>\n",
              "    <tr>\n",
              "      <th>0</th>\n",
              "      <td>1</td>\n",
              "      <td>2</td>\n",
              "      <td>3</td>\n",
              "      <td>4</td>\n",
              "      <td>hello</td>\n",
              "    </tr>\n",
              "    <tr>\n",
              "      <th>1</th>\n",
              "      <td>5</td>\n",
              "      <td>6</td>\n",
              "      <td>7</td>\n",
              "      <td>8</td>\n",
              "      <td>world</td>\n",
              "    </tr>\n",
              "    <tr>\n",
              "      <th>2</th>\n",
              "      <td>9</td>\n",
              "      <td>10</td>\n",
              "      <td>11</td>\n",
              "      <td>12</td>\n",
              "      <td>foo</td>\n",
              "    </tr>\n",
              "  </tbody>\n",
              "</table>\n",
              "</div>"
            ],
            "text/plain": [
              "   a   b   c   d message\n",
              "0  1   2   3   4   hello\n",
              "1  5   6   7   8   world\n",
              "2  9  10  11  12     foo"
            ]
          },
          "metadata": {},
          "execution_count": 18
        }
      ]
    },
    {
      "cell_type": "code",
      "source": [
        "!cat /content/csv_mindex.csv"
      ],
      "metadata": {
        "colab": {
          "base_uri": "https://localhost:8080/"
        },
        "id": "4M9SauA9Y_XL",
        "outputId": "31f2d297-ae9f-455d-f3c4-88dc19905ee0"
      },
      "execution_count": null,
      "outputs": [
        {
          "output_type": "stream",
          "name": "stdout",
          "text": [
            "key1,key2,value1,value2\r\n",
            "one,a,1,2\r\n",
            "one,b,3,4\r\n",
            "one,c,5,6\r\n",
            "one,d,7,8\r\n",
            "two,a,9,10\r\n",
            "two,b,11,12\r\n",
            "two,c,13,14\r\n",
            "two,d,15,16"
          ]
        }
      ]
    },
    {
      "cell_type": "code",
      "source": [
        "df3=pd.read_csv('/content/csv_mindex.csv', index_col=['key1', 'key2'])\n",
        "df3"
      ],
      "metadata": {
        "colab": {
          "base_uri": "https://localhost:8080/",
          "height": 332
        },
        "id": "FgIH-E0QY_Vm",
        "outputId": "9a427155-cb8f-4a1e-9faf-0e4e264433cb"
      },
      "execution_count": null,
      "outputs": [
        {
          "output_type": "execute_result",
          "data": {
            "text/html": [
              "<div>\n",
              "<style scoped>\n",
              "    .dataframe tbody tr th:only-of-type {\n",
              "        vertical-align: middle;\n",
              "    }\n",
              "\n",
              "    .dataframe tbody tr th {\n",
              "        vertical-align: top;\n",
              "    }\n",
              "\n",
              "    .dataframe thead th {\n",
              "        text-align: right;\n",
              "    }\n",
              "</style>\n",
              "<table border=\"1\" class=\"dataframe\">\n",
              "  <thead>\n",
              "    <tr style=\"text-align: right;\">\n",
              "      <th></th>\n",
              "      <th></th>\n",
              "      <th>value1</th>\n",
              "      <th>value2</th>\n",
              "    </tr>\n",
              "    <tr>\n",
              "      <th>key1</th>\n",
              "      <th>key2</th>\n",
              "      <th></th>\n",
              "      <th></th>\n",
              "    </tr>\n",
              "  </thead>\n",
              "  <tbody>\n",
              "    <tr>\n",
              "      <th rowspan=\"4\" valign=\"top\">one</th>\n",
              "      <th>a</th>\n",
              "      <td>1</td>\n",
              "      <td>2</td>\n",
              "    </tr>\n",
              "    <tr>\n",
              "      <th>b</th>\n",
              "      <td>3</td>\n",
              "      <td>4</td>\n",
              "    </tr>\n",
              "    <tr>\n",
              "      <th>c</th>\n",
              "      <td>5</td>\n",
              "      <td>6</td>\n",
              "    </tr>\n",
              "    <tr>\n",
              "      <th>d</th>\n",
              "      <td>7</td>\n",
              "      <td>8</td>\n",
              "    </tr>\n",
              "    <tr>\n",
              "      <th rowspan=\"4\" valign=\"top\">two</th>\n",
              "      <th>a</th>\n",
              "      <td>9</td>\n",
              "      <td>10</td>\n",
              "    </tr>\n",
              "    <tr>\n",
              "      <th>b</th>\n",
              "      <td>11</td>\n",
              "      <td>12</td>\n",
              "    </tr>\n",
              "    <tr>\n",
              "      <th>c</th>\n",
              "      <td>13</td>\n",
              "      <td>14</td>\n",
              "    </tr>\n",
              "    <tr>\n",
              "      <th>d</th>\n",
              "      <td>15</td>\n",
              "      <td>16</td>\n",
              "    </tr>\n",
              "  </tbody>\n",
              "</table>\n",
              "</div>"
            ],
            "text/plain": [
              "           value1  value2\n",
              "key1 key2                \n",
              "one  a          1       2\n",
              "     b          3       4\n",
              "     c          5       6\n",
              "     d          7       8\n",
              "two  a          9      10\n",
              "     b         11      12\n",
              "     c         13      14\n",
              "     d         15      16"
            ]
          },
          "metadata": {},
          "execution_count": 21
        }
      ]
    },
    {
      "cell_type": "code",
      "source": [
        "list(open('/content/ex3.txt'))"
      ],
      "metadata": {
        "colab": {
          "base_uri": "https://localhost:8080/"
        },
        "id": "xzOf_B0cY_R_",
        "outputId": "dc3bf1cb-8867-4712-c7bc-f01eaac6263c"
      },
      "execution_count": null,
      "outputs": [
        {
          "output_type": "execute_result",
          "data": {
            "text/plain": [
              "['            A         B         C\\n',\n",
              " 'aaa -0.264438 -1.026059 -0.619500\\n',\n",
              " 'bbb  0.927272  0.302904 -0.032399\\n',\n",
              " 'ccc -0.264273 -0.386314 -0.217601\\n',\n",
              " 'ddd -0.871858 -0.348382  1.100491']"
            ]
          },
          "metadata": {},
          "execution_count": 23
        }
      ]
    },
    {
      "cell_type": "code",
      "source": [
        "df3 = pd.read_table('/content/ex3.txt', sep='\\s+')\n",
        "df3"
      ],
      "metadata": {
        "colab": {
          "base_uri": "https://localhost:8080/",
          "height": 175
        },
        "id": "17NRbfuQY_QW",
        "outputId": "bfc3923a-3e07-43cf-d9e9-1760e5d42e97"
      },
      "execution_count": null,
      "outputs": [
        {
          "output_type": "execute_result",
          "data": {
            "text/html": [
              "<div>\n",
              "<style scoped>\n",
              "    .dataframe tbody tr th:only-of-type {\n",
              "        vertical-align: middle;\n",
              "    }\n",
              "\n",
              "    .dataframe tbody tr th {\n",
              "        vertical-align: top;\n",
              "    }\n",
              "\n",
              "    .dataframe thead th {\n",
              "        text-align: right;\n",
              "    }\n",
              "</style>\n",
              "<table border=\"1\" class=\"dataframe\">\n",
              "  <thead>\n",
              "    <tr style=\"text-align: right;\">\n",
              "      <th></th>\n",
              "      <th>A</th>\n",
              "      <th>B</th>\n",
              "      <th>C</th>\n",
              "    </tr>\n",
              "  </thead>\n",
              "  <tbody>\n",
              "    <tr>\n",
              "      <th>aaa</th>\n",
              "      <td>-0.264438</td>\n",
              "      <td>-1.026059</td>\n",
              "      <td>-0.619500</td>\n",
              "    </tr>\n",
              "    <tr>\n",
              "      <th>bbb</th>\n",
              "      <td>0.927272</td>\n",
              "      <td>0.302904</td>\n",
              "      <td>-0.032399</td>\n",
              "    </tr>\n",
              "    <tr>\n",
              "      <th>ccc</th>\n",
              "      <td>-0.264273</td>\n",
              "      <td>-0.386314</td>\n",
              "      <td>-0.217601</td>\n",
              "    </tr>\n",
              "    <tr>\n",
              "      <th>ddd</th>\n",
              "      <td>-0.871858</td>\n",
              "      <td>-0.348382</td>\n",
              "      <td>1.100491</td>\n",
              "    </tr>\n",
              "  </tbody>\n",
              "</table>\n",
              "</div>"
            ],
            "text/plain": [
              "            A         B         C\n",
              "aaa -0.264438 -1.026059 -0.619500\n",
              "bbb  0.927272  0.302904 -0.032399\n",
              "ccc -0.264273 -0.386314 -0.217601\n",
              "ddd -0.871858 -0.348382  1.100491"
            ]
          },
          "metadata": {},
          "execution_count": 24
        }
      ]
    },
    {
      "cell_type": "code",
      "source": [
        "!cat /content/ex4.csv"
      ],
      "metadata": {
        "colab": {
          "base_uri": "https://localhost:8080/"
        },
        "id": "yLh4nb9WY_Ol",
        "outputId": "1d849961-0503-4572-85ee-94c85dd9d4ef"
      },
      "execution_count": null,
      "outputs": [
        {
          "output_type": "stream",
          "name": "stdout",
          "text": [
            "# hey!\r\n",
            "a,b,c,d,message\r\n",
            "# just wanted to make things more difficult for you\r\n",
            "# who reads CSV files with computers, anyway?\r\n",
            "1,2,3,4,hello\r\n",
            "5,6,7,8,world\r\n",
            "9,10,11,12,foo"
          ]
        }
      ]
    },
    {
      "cell_type": "code",
      "source": [
        "df4=pd.read_csv('/content/ex4.csv', skiprows=[0, 2, 3])\n",
        "df4"
      ],
      "metadata": {
        "colab": {
          "base_uri": "https://localhost:8080/",
          "height": 143
        },
        "id": "JYwiRxJeY_Mb",
        "outputId": "64ccea07-b115-42c2-cc74-aadeb1a92b79"
      },
      "execution_count": null,
      "outputs": [
        {
          "output_type": "execute_result",
          "data": {
            "text/html": [
              "<div>\n",
              "<style scoped>\n",
              "    .dataframe tbody tr th:only-of-type {\n",
              "        vertical-align: middle;\n",
              "    }\n",
              "\n",
              "    .dataframe tbody tr th {\n",
              "        vertical-align: top;\n",
              "    }\n",
              "\n",
              "    .dataframe thead th {\n",
              "        text-align: right;\n",
              "    }\n",
              "</style>\n",
              "<table border=\"1\" class=\"dataframe\">\n",
              "  <thead>\n",
              "    <tr style=\"text-align: right;\">\n",
              "      <th></th>\n",
              "      <th>a</th>\n",
              "      <th>b</th>\n",
              "      <th>c</th>\n",
              "      <th>d</th>\n",
              "      <th>message</th>\n",
              "    </tr>\n",
              "  </thead>\n",
              "  <tbody>\n",
              "    <tr>\n",
              "      <th>0</th>\n",
              "      <td>1</td>\n",
              "      <td>2</td>\n",
              "      <td>3</td>\n",
              "      <td>4</td>\n",
              "      <td>hello</td>\n",
              "    </tr>\n",
              "    <tr>\n",
              "      <th>1</th>\n",
              "      <td>5</td>\n",
              "      <td>6</td>\n",
              "      <td>7</td>\n",
              "      <td>8</td>\n",
              "      <td>world</td>\n",
              "    </tr>\n",
              "    <tr>\n",
              "      <th>2</th>\n",
              "      <td>9</td>\n",
              "      <td>10</td>\n",
              "      <td>11</td>\n",
              "      <td>12</td>\n",
              "      <td>foo</td>\n",
              "    </tr>\n",
              "  </tbody>\n",
              "</table>\n",
              "</div>"
            ],
            "text/plain": [
              "   a   b   c   d message\n",
              "0  1   2   3   4   hello\n",
              "1  5   6   7   8   world\n",
              "2  9  10  11  12     foo"
            ]
          },
          "metadata": {},
          "execution_count": 26
        }
      ]
    },
    {
      "cell_type": "code",
      "source": [
        "df5 = pd.read_csv('/content/ex5.csv')\n",
        "df5\n",
        "pd.isnull(df5)"
      ],
      "metadata": {
        "colab": {
          "base_uri": "https://localhost:8080/",
          "height": 143
        },
        "id": "4VA44aiGY_Jt",
        "outputId": "d4ac67c6-90b3-4e2f-8738-e7591e1a1bc3"
      },
      "execution_count": null,
      "outputs": [
        {
          "output_type": "execute_result",
          "data": {
            "text/html": [
              "<div>\n",
              "<style scoped>\n",
              "    .dataframe tbody tr th:only-of-type {\n",
              "        vertical-align: middle;\n",
              "    }\n",
              "\n",
              "    .dataframe tbody tr th {\n",
              "        vertical-align: top;\n",
              "    }\n",
              "\n",
              "    .dataframe thead th {\n",
              "        text-align: right;\n",
              "    }\n",
              "</style>\n",
              "<table border=\"1\" class=\"dataframe\">\n",
              "  <thead>\n",
              "    <tr style=\"text-align: right;\">\n",
              "      <th></th>\n",
              "      <th>something</th>\n",
              "      <th>a</th>\n",
              "      <th>b</th>\n",
              "      <th>c</th>\n",
              "      <th>d</th>\n",
              "      <th>message</th>\n",
              "    </tr>\n",
              "  </thead>\n",
              "  <tbody>\n",
              "    <tr>\n",
              "      <th>0</th>\n",
              "      <td>False</td>\n",
              "      <td>False</td>\n",
              "      <td>False</td>\n",
              "      <td>False</td>\n",
              "      <td>False</td>\n",
              "      <td>True</td>\n",
              "    </tr>\n",
              "    <tr>\n",
              "      <th>1</th>\n",
              "      <td>False</td>\n",
              "      <td>False</td>\n",
              "      <td>False</td>\n",
              "      <td>True</td>\n",
              "      <td>False</td>\n",
              "      <td>False</td>\n",
              "    </tr>\n",
              "    <tr>\n",
              "      <th>2</th>\n",
              "      <td>False</td>\n",
              "      <td>False</td>\n",
              "      <td>False</td>\n",
              "      <td>False</td>\n",
              "      <td>False</td>\n",
              "      <td>False</td>\n",
              "    </tr>\n",
              "  </tbody>\n",
              "</table>\n",
              "</div>"
            ],
            "text/plain": [
              "   something      a      b      c      d  message\n",
              "0      False  False  False  False  False     True\n",
              "1      False  False  False   True  False    False\n",
              "2      False  False  False  False  False    False"
            ]
          },
          "metadata": {},
          "execution_count": 27
        }
      ]
    },
    {
      "cell_type": "code",
      "source": [
        "df5 = pd.read_csv('/content/ex5.csv', na_values=['NULL'])\n",
        "df5"
      ],
      "metadata": {
        "colab": {
          "base_uri": "https://localhost:8080/",
          "height": 143
        },
        "id": "HVxjLO8wY_En",
        "outputId": "54fe432e-8d1a-4991-d6d7-3dd8f5010c94"
      },
      "execution_count": null,
      "outputs": [
        {
          "output_type": "execute_result",
          "data": {
            "text/html": [
              "<div>\n",
              "<style scoped>\n",
              "    .dataframe tbody tr th:only-of-type {\n",
              "        vertical-align: middle;\n",
              "    }\n",
              "\n",
              "    .dataframe tbody tr th {\n",
              "        vertical-align: top;\n",
              "    }\n",
              "\n",
              "    .dataframe thead th {\n",
              "        text-align: right;\n",
              "    }\n",
              "</style>\n",
              "<table border=\"1\" class=\"dataframe\">\n",
              "  <thead>\n",
              "    <tr style=\"text-align: right;\">\n",
              "      <th></th>\n",
              "      <th>something</th>\n",
              "      <th>a</th>\n",
              "      <th>b</th>\n",
              "      <th>c</th>\n",
              "      <th>d</th>\n",
              "      <th>message</th>\n",
              "    </tr>\n",
              "  </thead>\n",
              "  <tbody>\n",
              "    <tr>\n",
              "      <th>0</th>\n",
              "      <td>one</td>\n",
              "      <td>1</td>\n",
              "      <td>2</td>\n",
              "      <td>3.0</td>\n",
              "      <td>4</td>\n",
              "      <td>NaN</td>\n",
              "    </tr>\n",
              "    <tr>\n",
              "      <th>1</th>\n",
              "      <td>two</td>\n",
              "      <td>5</td>\n",
              "      <td>6</td>\n",
              "      <td>NaN</td>\n",
              "      <td>8</td>\n",
              "      <td>world</td>\n",
              "    </tr>\n",
              "    <tr>\n",
              "      <th>2</th>\n",
              "      <td>three</td>\n",
              "      <td>9</td>\n",
              "      <td>10</td>\n",
              "      <td>11.0</td>\n",
              "      <td>12</td>\n",
              "      <td>foo</td>\n",
              "    </tr>\n",
              "  </tbody>\n",
              "</table>\n",
              "</div>"
            ],
            "text/plain": [
              "  something  a   b     c   d message\n",
              "0       one  1   2   3.0   4     NaN\n",
              "1       two  5   6   NaN   8   world\n",
              "2     three  9  10  11.0  12     foo"
            ]
          },
          "metadata": {},
          "execution_count": 28
        }
      ]
    },
    {
      "cell_type": "code",
      "source": [
        "sentinels = {'message': ['foo', 'NA'], 'something': ['two']}\n",
        "pd.read_csv('/content/ex5.csv', na_values=sentinels)"
      ],
      "metadata": {
        "colab": {
          "base_uri": "https://localhost:8080/",
          "height": 143
        },
        "id": "ouUH2XpNY_Aq",
        "outputId": "e15e413e-cbda-4b16-e1f9-a698b6707911"
      },
      "execution_count": null,
      "outputs": [
        {
          "output_type": "execute_result",
          "data": {
            "text/html": [
              "<div>\n",
              "<style scoped>\n",
              "    .dataframe tbody tr th:only-of-type {\n",
              "        vertical-align: middle;\n",
              "    }\n",
              "\n",
              "    .dataframe tbody tr th {\n",
              "        vertical-align: top;\n",
              "    }\n",
              "\n",
              "    .dataframe thead th {\n",
              "        text-align: right;\n",
              "    }\n",
              "</style>\n",
              "<table border=\"1\" class=\"dataframe\">\n",
              "  <thead>\n",
              "    <tr style=\"text-align: right;\">\n",
              "      <th></th>\n",
              "      <th>something</th>\n",
              "      <th>a</th>\n",
              "      <th>b</th>\n",
              "      <th>c</th>\n",
              "      <th>d</th>\n",
              "      <th>message</th>\n",
              "    </tr>\n",
              "  </thead>\n",
              "  <tbody>\n",
              "    <tr>\n",
              "      <th>0</th>\n",
              "      <td>one</td>\n",
              "      <td>1</td>\n",
              "      <td>2</td>\n",
              "      <td>3.0</td>\n",
              "      <td>4</td>\n",
              "      <td>NaN</td>\n",
              "    </tr>\n",
              "    <tr>\n",
              "      <th>1</th>\n",
              "      <td>NaN</td>\n",
              "      <td>5</td>\n",
              "      <td>6</td>\n",
              "      <td>NaN</td>\n",
              "      <td>8</td>\n",
              "      <td>world</td>\n",
              "    </tr>\n",
              "    <tr>\n",
              "      <th>2</th>\n",
              "      <td>three</td>\n",
              "      <td>9</td>\n",
              "      <td>10</td>\n",
              "      <td>11.0</td>\n",
              "      <td>12</td>\n",
              "      <td>NaN</td>\n",
              "    </tr>\n",
              "  </tbody>\n",
              "</table>\n",
              "</div>"
            ],
            "text/plain": [
              "  something  a   b     c   d message\n",
              "0       one  1   2   3.0   4     NaN\n",
              "1       NaN  5   6   NaN   8   world\n",
              "2     three  9  10  11.0  12     NaN"
            ]
          },
          "metadata": {},
          "execution_count": 29
        }
      ]
    },
    {
      "cell_type": "code",
      "source": [
        "sentinels = {'a': ['5'], 'b': ['2'], 'something': ['three']}\n",
        "pd.read_csv('/content/ex5.csv', na_values=sentinels)"
      ],
      "metadata": {
        "colab": {
          "base_uri": "https://localhost:8080/",
          "height": 143
        },
        "id": "9hD5WOmpY--w",
        "outputId": "caeb00af-1865-4d4e-feeb-24914144e56a"
      },
      "execution_count": null,
      "outputs": [
        {
          "output_type": "execute_result",
          "data": {
            "text/html": [
              "<div>\n",
              "<style scoped>\n",
              "    .dataframe tbody tr th:only-of-type {\n",
              "        vertical-align: middle;\n",
              "    }\n",
              "\n",
              "    .dataframe tbody tr th {\n",
              "        vertical-align: top;\n",
              "    }\n",
              "\n",
              "    .dataframe thead th {\n",
              "        text-align: right;\n",
              "    }\n",
              "</style>\n",
              "<table border=\"1\" class=\"dataframe\">\n",
              "  <thead>\n",
              "    <tr style=\"text-align: right;\">\n",
              "      <th></th>\n",
              "      <th>something</th>\n",
              "      <th>a</th>\n",
              "      <th>b</th>\n",
              "      <th>c</th>\n",
              "      <th>d</th>\n",
              "      <th>message</th>\n",
              "    </tr>\n",
              "  </thead>\n",
              "  <tbody>\n",
              "    <tr>\n",
              "      <th>0</th>\n",
              "      <td>one</td>\n",
              "      <td>1.0</td>\n",
              "      <td>NaN</td>\n",
              "      <td>3.0</td>\n",
              "      <td>4</td>\n",
              "      <td>NaN</td>\n",
              "    </tr>\n",
              "    <tr>\n",
              "      <th>1</th>\n",
              "      <td>two</td>\n",
              "      <td>NaN</td>\n",
              "      <td>6.0</td>\n",
              "      <td>NaN</td>\n",
              "      <td>8</td>\n",
              "      <td>world</td>\n",
              "    </tr>\n",
              "    <tr>\n",
              "      <th>2</th>\n",
              "      <td>NaN</td>\n",
              "      <td>9.0</td>\n",
              "      <td>10.0</td>\n",
              "      <td>11.0</td>\n",
              "      <td>12</td>\n",
              "      <td>foo</td>\n",
              "    </tr>\n",
              "  </tbody>\n",
              "</table>\n",
              "</div>"
            ],
            "text/plain": [
              "  something    a     b     c   d message\n",
              "0       one  1.0   NaN   3.0   4     NaN\n",
              "1       two  NaN   6.0   NaN   8   world\n",
              "2       NaN  9.0  10.0  11.0  12     foo"
            ]
          },
          "metadata": {},
          "execution_count": 30
        }
      ]
    },
    {
      "cell_type": "markdown",
      "source": [
        "Reading Text Files in Pieces"
      ],
      "metadata": {
        "id": "Y04c5N2GoDm-"
      }
    },
    {
      "cell_type": "code",
      "source": [
        "pd.options.display.max_rows = 10"
      ],
      "metadata": {
        "id": "m02bFIiNY-6H"
      },
      "execution_count": null,
      "outputs": []
    },
    {
      "cell_type": "code",
      "source": [
        "df6=pd.read_csv('/content/ex6.csv')\n",
        "df6"
      ],
      "metadata": {
        "colab": {
          "base_uri": "https://localhost:8080/",
          "height": 424
        },
        "id": "GkgTbui-Y-4w",
        "outputId": "0f0943b6-f28f-413e-c57b-1331d5b12d04"
      },
      "execution_count": null,
      "outputs": [
        {
          "output_type": "execute_result",
          "data": {
            "text/html": [
              "<div>\n",
              "<style scoped>\n",
              "    .dataframe tbody tr th:only-of-type {\n",
              "        vertical-align: middle;\n",
              "    }\n",
              "\n",
              "    .dataframe tbody tr th {\n",
              "        vertical-align: top;\n",
              "    }\n",
              "\n",
              "    .dataframe thead th {\n",
              "        text-align: right;\n",
              "    }\n",
              "</style>\n",
              "<table border=\"1\" class=\"dataframe\">\n",
              "  <thead>\n",
              "    <tr style=\"text-align: right;\">\n",
              "      <th></th>\n",
              "      <th>one</th>\n",
              "      <th>two</th>\n",
              "      <th>three</th>\n",
              "      <th>four</th>\n",
              "      <th>key</th>\n",
              "    </tr>\n",
              "  </thead>\n",
              "  <tbody>\n",
              "    <tr>\n",
              "      <th>0</th>\n",
              "      <td>0.467976</td>\n",
              "      <td>-0.038649</td>\n",
              "      <td>-0.295344</td>\n",
              "      <td>-1.824726</td>\n",
              "      <td>L</td>\n",
              "    </tr>\n",
              "    <tr>\n",
              "      <th>1</th>\n",
              "      <td>-0.358893</td>\n",
              "      <td>1.404453</td>\n",
              "      <td>0.704965</td>\n",
              "      <td>-0.200638</td>\n",
              "      <td>B</td>\n",
              "    </tr>\n",
              "    <tr>\n",
              "      <th>2</th>\n",
              "      <td>-0.501840</td>\n",
              "      <td>0.659254</td>\n",
              "      <td>-0.421691</td>\n",
              "      <td>-0.057688</td>\n",
              "      <td>G</td>\n",
              "    </tr>\n",
              "    <tr>\n",
              "      <th>3</th>\n",
              "      <td>0.204886</td>\n",
              "      <td>1.074134</td>\n",
              "      <td>1.388361</td>\n",
              "      <td>-0.982404</td>\n",
              "      <td>R</td>\n",
              "    </tr>\n",
              "    <tr>\n",
              "      <th>4</th>\n",
              "      <td>0.354628</td>\n",
              "      <td>-0.133116</td>\n",
              "      <td>0.283763</td>\n",
              "      <td>-0.837063</td>\n",
              "      <td>Q</td>\n",
              "    </tr>\n",
              "    <tr>\n",
              "      <th>...</th>\n",
              "      <td>...</td>\n",
              "      <td>...</td>\n",
              "      <td>...</td>\n",
              "      <td>...</td>\n",
              "      <td>...</td>\n",
              "    </tr>\n",
              "    <tr>\n",
              "      <th>9995</th>\n",
              "      <td>2.311896</td>\n",
              "      <td>-0.417070</td>\n",
              "      <td>-1.409599</td>\n",
              "      <td>-0.515821</td>\n",
              "      <td>L</td>\n",
              "    </tr>\n",
              "    <tr>\n",
              "      <th>9996</th>\n",
              "      <td>-0.479893</td>\n",
              "      <td>-0.650419</td>\n",
              "      <td>0.745152</td>\n",
              "      <td>-0.646038</td>\n",
              "      <td>E</td>\n",
              "    </tr>\n",
              "    <tr>\n",
              "      <th>9997</th>\n",
              "      <td>0.523331</td>\n",
              "      <td>0.787112</td>\n",
              "      <td>0.486066</td>\n",
              "      <td>1.093156</td>\n",
              "      <td>K</td>\n",
              "    </tr>\n",
              "    <tr>\n",
              "      <th>9998</th>\n",
              "      <td>-0.362559</td>\n",
              "      <td>0.598894</td>\n",
              "      <td>-1.843201</td>\n",
              "      <td>0.887292</td>\n",
              "      <td>G</td>\n",
              "    </tr>\n",
              "    <tr>\n",
              "      <th>9999</th>\n",
              "      <td>-0.096376</td>\n",
              "      <td>-1.012999</td>\n",
              "      <td>-0.657431</td>\n",
              "      <td>-0.573315</td>\n",
              "      <td>0</td>\n",
              "    </tr>\n",
              "  </tbody>\n",
              "</table>\n",
              "<p>10000 rows × 5 columns</p>\n",
              "</div>"
            ],
            "text/plain": [
              "           one       two     three      four key\n",
              "0     0.467976 -0.038649 -0.295344 -1.824726   L\n",
              "1    -0.358893  1.404453  0.704965 -0.200638   B\n",
              "2    -0.501840  0.659254 -0.421691 -0.057688   G\n",
              "3     0.204886  1.074134  1.388361 -0.982404   R\n",
              "4     0.354628 -0.133116  0.283763 -0.837063   Q\n",
              "...        ...       ...       ...       ...  ..\n",
              "9995  2.311896 -0.417070 -1.409599 -0.515821   L\n",
              "9996 -0.479893 -0.650419  0.745152 -0.646038   E\n",
              "9997  0.523331  0.787112  0.486066  1.093156   K\n",
              "9998 -0.362559  0.598894 -1.843201  0.887292   G\n",
              "9999 -0.096376 -1.012999 -0.657431 -0.573315   0\n",
              "\n",
              "[10000 rows x 5 columns]"
            ]
          },
          "metadata": {},
          "execution_count": 32
        }
      ]
    },
    {
      "cell_type": "code",
      "source": [
        "df6=pd.read_csv('/content/ex6.csv',nrows=5)\n",
        "df6"
      ],
      "metadata": {
        "colab": {
          "base_uri": "https://localhost:8080/",
          "height": 206
        },
        "id": "SuWsHSh7oSAu",
        "outputId": "4d8c8a90-00b1-4039-a5c5-185a6e1b974a"
      },
      "execution_count": null,
      "outputs": [
        {
          "output_type": "execute_result",
          "data": {
            "text/html": [
              "<div>\n",
              "<style scoped>\n",
              "    .dataframe tbody tr th:only-of-type {\n",
              "        vertical-align: middle;\n",
              "    }\n",
              "\n",
              "    .dataframe tbody tr th {\n",
              "        vertical-align: top;\n",
              "    }\n",
              "\n",
              "    .dataframe thead th {\n",
              "        text-align: right;\n",
              "    }\n",
              "</style>\n",
              "<table border=\"1\" class=\"dataframe\">\n",
              "  <thead>\n",
              "    <tr style=\"text-align: right;\">\n",
              "      <th></th>\n",
              "      <th>one</th>\n",
              "      <th>two</th>\n",
              "      <th>three</th>\n",
              "      <th>four</th>\n",
              "      <th>key</th>\n",
              "    </tr>\n",
              "  </thead>\n",
              "  <tbody>\n",
              "    <tr>\n",
              "      <th>0</th>\n",
              "      <td>0.467976</td>\n",
              "      <td>-0.038649</td>\n",
              "      <td>-0.295344</td>\n",
              "      <td>-1.824726</td>\n",
              "      <td>L</td>\n",
              "    </tr>\n",
              "    <tr>\n",
              "      <th>1</th>\n",
              "      <td>-0.358893</td>\n",
              "      <td>1.404453</td>\n",
              "      <td>0.704965</td>\n",
              "      <td>-0.200638</td>\n",
              "      <td>B</td>\n",
              "    </tr>\n",
              "    <tr>\n",
              "      <th>2</th>\n",
              "      <td>-0.501840</td>\n",
              "      <td>0.659254</td>\n",
              "      <td>-0.421691</td>\n",
              "      <td>-0.057688</td>\n",
              "      <td>G</td>\n",
              "    </tr>\n",
              "    <tr>\n",
              "      <th>3</th>\n",
              "      <td>0.204886</td>\n",
              "      <td>1.074134</td>\n",
              "      <td>1.388361</td>\n",
              "      <td>-0.982404</td>\n",
              "      <td>R</td>\n",
              "    </tr>\n",
              "    <tr>\n",
              "      <th>4</th>\n",
              "      <td>0.354628</td>\n",
              "      <td>-0.133116</td>\n",
              "      <td>0.283763</td>\n",
              "      <td>-0.837063</td>\n",
              "      <td>Q</td>\n",
              "    </tr>\n",
              "  </tbody>\n",
              "</table>\n",
              "</div>"
            ],
            "text/plain": [
              "        one       two     three      four key\n",
              "0  0.467976 -0.038649 -0.295344 -1.824726   L\n",
              "1 -0.358893  1.404453  0.704965 -0.200638   B\n",
              "2 -0.501840  0.659254 -0.421691 -0.057688   G\n",
              "3  0.204886  1.074134  1.388361 -0.982404   R\n",
              "4  0.354628 -0.133116  0.283763 -0.837063   Q"
            ]
          },
          "metadata": {},
          "execution_count": 33
        }
      ]
    },
    {
      "cell_type": "code",
      "source": [
        "df6=pd.read_csv('/content/ex6.csv', chunksize=1000)\n",
        "df6"
      ],
      "metadata": {
        "colab": {
          "base_uri": "https://localhost:8080/"
        },
        "id": "EsAwThPXoR_B",
        "outputId": "f738e146-06e1-436c-f775-0063c2e50a9e"
      },
      "execution_count": null,
      "outputs": [
        {
          "output_type": "execute_result",
          "data": {
            "text/plain": [
              "<pandas.io.parsers.TextFileReader at 0x7f6d3c0c6d90>"
            ]
          },
          "metadata": {},
          "execution_count": 34
        }
      ]
    },
    {
      "cell_type": "code",
      "source": [
        "df6=pd.read_csv('/content/ex6.csv', chunksize=1000)\n",
        "tot = pd.Series([])\n",
        "for piece in df6:\n",
        "    tot = tot.add(piece['key'].value_counts(), fill_value=0)\n",
        "\n",
        "tot = tot.sort_values(ascending=False)"
      ],
      "metadata": {
        "colab": {
          "base_uri": "https://localhost:8080/"
        },
        "id": "JpSHiQN-oR6V",
        "outputId": "337a1ad7-5565-4d45-f070-382d24d577e9"
      },
      "execution_count": null,
      "outputs": [
        {
          "output_type": "stream",
          "name": "stderr",
          "text": [
            "/usr/local/lib/python3.7/dist-packages/ipykernel_launcher.py:2: DeprecationWarning: The default dtype for empty Series will be 'object' instead of 'float64' in a future version. Specify a dtype explicitly to silence this warning.\n",
            "  \n"
          ]
        }
      ]
    },
    {
      "cell_type": "code",
      "source": [
        "tot[:10]"
      ],
      "metadata": {
        "colab": {
          "base_uri": "https://localhost:8080/"
        },
        "id": "3_bLRlQhoR3I",
        "outputId": "a221f5ed-e4d2-4e2b-a899-6b7fd46adc2d"
      },
      "execution_count": null,
      "outputs": [
        {
          "output_type": "execute_result",
          "data": {
            "text/plain": [
              "E    368.0\n",
              "X    364.0\n",
              "L    346.0\n",
              "O    343.0\n",
              "Q    340.0\n",
              "M    338.0\n",
              "J    337.0\n",
              "F    335.0\n",
              "K    334.0\n",
              "H    330.0\n",
              "dtype: float64"
            ]
          },
          "metadata": {},
          "execution_count": 36
        }
      ]
    },
    {
      "cell_type": "code",
      "source": [
        "data = pd.read_csv('/content/ex5.csv')\n",
        "data"
      ],
      "metadata": {
        "colab": {
          "base_uri": "https://localhost:8080/",
          "height": 143
        },
        "id": "hagTMrZ_oRzq",
        "outputId": "b7414627-cbd0-474b-c56b-5cf8a713cf6a"
      },
      "execution_count": null,
      "outputs": [
        {
          "output_type": "execute_result",
          "data": {
            "text/html": [
              "<div>\n",
              "<style scoped>\n",
              "    .dataframe tbody tr th:only-of-type {\n",
              "        vertical-align: middle;\n",
              "    }\n",
              "\n",
              "    .dataframe tbody tr th {\n",
              "        vertical-align: top;\n",
              "    }\n",
              "\n",
              "    .dataframe thead th {\n",
              "        text-align: right;\n",
              "    }\n",
              "</style>\n",
              "<table border=\"1\" class=\"dataframe\">\n",
              "  <thead>\n",
              "    <tr style=\"text-align: right;\">\n",
              "      <th></th>\n",
              "      <th>something</th>\n",
              "      <th>a</th>\n",
              "      <th>b</th>\n",
              "      <th>c</th>\n",
              "      <th>d</th>\n",
              "      <th>message</th>\n",
              "    </tr>\n",
              "  </thead>\n",
              "  <tbody>\n",
              "    <tr>\n",
              "      <th>0</th>\n",
              "      <td>one</td>\n",
              "      <td>1</td>\n",
              "      <td>2</td>\n",
              "      <td>3.0</td>\n",
              "      <td>4</td>\n",
              "      <td>NaN</td>\n",
              "    </tr>\n",
              "    <tr>\n",
              "      <th>1</th>\n",
              "      <td>two</td>\n",
              "      <td>5</td>\n",
              "      <td>6</td>\n",
              "      <td>NaN</td>\n",
              "      <td>8</td>\n",
              "      <td>world</td>\n",
              "    </tr>\n",
              "    <tr>\n",
              "      <th>2</th>\n",
              "      <td>three</td>\n",
              "      <td>9</td>\n",
              "      <td>10</td>\n",
              "      <td>11.0</td>\n",
              "      <td>12</td>\n",
              "      <td>foo</td>\n",
              "    </tr>\n",
              "  </tbody>\n",
              "</table>\n",
              "</div>"
            ],
            "text/plain": [
              "  something  a   b     c   d message\n",
              "0       one  1   2   3.0   4     NaN\n",
              "1       two  5   6   NaN   8   world\n",
              "2     three  9  10  11.0  12     foo"
            ]
          },
          "metadata": {},
          "execution_count": 37
        }
      ]
    },
    {
      "cell_type": "code",
      "source": [
        "data.to_csv('/content/out.csv')\n",
        "!cat /content/out.csv"
      ],
      "metadata": {
        "colab": {
          "base_uri": "https://localhost:8080/"
        },
        "id": "-zL_aGu4oRvH",
        "outputId": "beeb933e-ff5a-4a17-9cde-2bc1f14048a1"
      },
      "execution_count": null,
      "outputs": [
        {
          "output_type": "stream",
          "name": "stdout",
          "text": [
            ",something,a,b,c,d,message\n",
            "0,one,1,2,3.0,4,\n",
            "1,two,5,6,,8,world\n",
            "2,three,9,10,11.0,12,foo\n"
          ]
        }
      ]
    },
    {
      "cell_type": "code",
      "source": [
        "import sys\n",
        "data.to_csv(sys.stdout, sep='|')"
      ],
      "metadata": {
        "colab": {
          "base_uri": "https://localhost:8080/"
        },
        "id": "6BOlLkUBoRrb",
        "outputId": "d92c17da-ca3f-4367-d6d7-bb2cfaed8256"
      },
      "execution_count": null,
      "outputs": [
        {
          "output_type": "stream",
          "name": "stdout",
          "text": [
            "|something|a|b|c|d|message\n",
            "0|one|1|2|3.0|4|\n",
            "1|two|5|6||8|world\n",
            "2|three|9|10|11.0|12|foo\n"
          ]
        }
      ]
    },
    {
      "cell_type": "code",
      "source": [
        "data.to_csv(sys.stdout, na_rep='NULL')"
      ],
      "metadata": {
        "colab": {
          "base_uri": "https://localhost:8080/"
        },
        "id": "PYgw6rD6oRpN",
        "outputId": "b74f1a2e-ad6b-42e7-8222-3b6c1799182b"
      },
      "execution_count": null,
      "outputs": [
        {
          "output_type": "stream",
          "name": "stdout",
          "text": [
            ",something,a,b,c,d,message\n",
            "0,one,1,2,3.0,4,NULL\n",
            "1,two,5,6,NULL,8,world\n",
            "2,three,9,10,11.0,12,foo\n"
          ]
        }
      ]
    },
    {
      "cell_type": "code",
      "source": [
        "data.to_csv(sys.stdout, index=False, header=False)"
      ],
      "metadata": {
        "colab": {
          "base_uri": "https://localhost:8080/"
        },
        "id": "BT14eY_-oRle",
        "outputId": "539d2a81-99f0-4d24-f3fa-727d1ddd33db"
      },
      "execution_count": null,
      "outputs": [
        {
          "output_type": "stream",
          "name": "stdout",
          "text": [
            "one,1,2,3.0,4,\n",
            "two,5,6,,8,world\n",
            "three,9,10,11.0,12,foo\n"
          ]
        }
      ]
    },
    {
      "cell_type": "code",
      "source": [
        "data.to_csv(sys.stdout, index=False, columns=['a', 'b', 'c'])"
      ],
      "metadata": {
        "colab": {
          "base_uri": "https://localhost:8080/"
        },
        "id": "-MVQuC5loRjR",
        "outputId": "856a2fde-2ee6-427e-e39e-43bdb6f571fe"
      },
      "execution_count": null,
      "outputs": [
        {
          "output_type": "stream",
          "name": "stdout",
          "text": [
            "a,b,c\n",
            "1,2,3.0\n",
            "5,6,\n",
            "9,10,11.0\n"
          ]
        }
      ]
    },
    {
      "cell_type": "code",
      "source": [
        "dates = pd.date_range('1/1/2000', periods=7)\n",
        "ts = pd.Series(np.arange(7), index=dates)\n",
        "ts.to_csv('/content/sample_data/tseries.csv')\n",
        "!cat /content/sample_data/tseries.csv"
      ],
      "metadata": {
        "colab": {
          "base_uri": "https://localhost:8080/"
        },
        "id": "4BaaTs5-oRf6",
        "outputId": "2b4c70fc-01e4-4a63-f29b-83a8d486db56"
      },
      "execution_count": null,
      "outputs": [
        {
          "output_type": "stream",
          "name": "stdout",
          "text": [
            ",0\n",
            "2000-01-01,0\n",
            "2000-01-02,1\n",
            "2000-01-03,2\n",
            "2000-01-04,3\n",
            "2000-01-05,4\n",
            "2000-01-06,5\n",
            "2000-01-07,6\n"
          ]
        }
      ]
    },
    {
      "cell_type": "markdown",
      "source": [
        "Working with Delimited Formats"
      ],
      "metadata": {
        "id": "uiUOJcHPpYsN"
      }
    },
    {
      "cell_type": "code",
      "source": [
        "!cat /content/ex7.csv"
      ],
      "metadata": {
        "colab": {
          "base_uri": "https://localhost:8080/"
        },
        "id": "xH2ph-AUoRdl",
        "outputId": "15e93095-e5e0-4961-c3c2-784598062ced"
      },
      "execution_count": null,
      "outputs": [
        {
          "output_type": "stream",
          "name": "stdout",
          "text": [
            "\"a\",\"b\",\"c\"\r\n",
            "\"1\",\"2\",\"3\"\r\n",
            "\"1\",\"2\",\"3\""
          ]
        }
      ]
    },
    {
      "cell_type": "code",
      "source": [
        "import csv\n",
        "f = open('/content/ex7.csv')\n",
        "\n",
        "reader = csv.reader(f)"
      ],
      "metadata": {
        "id": "vJIawqGYpicE"
      },
      "execution_count": null,
      "outputs": []
    },
    {
      "cell_type": "code",
      "source": [
        "for line in reader:\n",
        "    print(line)"
      ],
      "metadata": {
        "colab": {
          "base_uri": "https://localhost:8080/"
        },
        "id": "o8-JSLy8piXs",
        "outputId": "aa3bf2a4-8748-4a9d-b26e-15adad89f958"
      },
      "execution_count": null,
      "outputs": [
        {
          "output_type": "stream",
          "name": "stdout",
          "text": [
            "['a', 'b', 'c']\n",
            "['1', '2', '3']\n",
            "['1', '2', '3']\n"
          ]
        }
      ]
    },
    {
      "cell_type": "code",
      "source": [
        "with open('/content/ex7.csv') as f:\n",
        "    lines = list(csv.reader(f))"
      ],
      "metadata": {
        "id": "nktLytXCpiVw"
      },
      "execution_count": null,
      "outputs": []
    },
    {
      "cell_type": "code",
      "source": [
        "header, values = lines[0], lines[1:]"
      ],
      "metadata": {
        "id": "itQzSbSxpiSv"
      },
      "execution_count": null,
      "outputs": []
    },
    {
      "cell_type": "code",
      "source": [
        "data_dict = {h: v for h, v in zip(header, zip(*values))}\n",
        "data_dict"
      ],
      "metadata": {
        "colab": {
          "base_uri": "https://localhost:8080/"
        },
        "id": "ZUujGkhkpiQ_",
        "outputId": "99f8c7fb-4410-4d5a-9af9-2b631ee17522"
      },
      "execution_count": null,
      "outputs": [
        {
          "output_type": "execute_result",
          "data": {
            "text/plain": [
              "{'a': ('1', '1'), 'b': ('2', '2'), 'c': ('3', '3')}"
            ]
          },
          "metadata": {},
          "execution_count": 50
        }
      ]
    },
    {
      "cell_type": "markdown",
      "source": [
        "JSON Data"
      ],
      "metadata": {
        "id": "udPAuOkBp3mO"
      }
    },
    {
      "cell_type": "code",
      "source": [
        "obj = \"\"\"\n",
        "{\"name\": \"Wes\",\n",
        " \"places_lived\": [\"United States\", \"Spain\", \"Germany\"],\n",
        " \"pet\": null,\n",
        " \"siblings\": [{\"name\": \"Scott\", \"age\": 30, \"pets\": [\"Zeus\", \"Zuko\"]},\n",
        "              {\"name\": \"Katie\", \"age\": 38,\n",
        "               \"pets\": [\"Sixes\", \"Stache\", \"Cisco\"]}]\n",
        "}\n",
        "\"\"\""
      ],
      "metadata": {
        "id": "fYiPnd35piMc"
      },
      "execution_count": null,
      "outputs": []
    },
    {
      "cell_type": "code",
      "source": [
        "import json\n",
        "result = json.loads(obj)\n",
        "result"
      ],
      "metadata": {
        "colab": {
          "base_uri": "https://localhost:8080/"
        },
        "id": "SYCl7CkJpiKk",
        "outputId": "514a145d-2d72-4982-8f6d-b9356657997d"
      },
      "execution_count": null,
      "outputs": [
        {
          "output_type": "execute_result",
          "data": {
            "text/plain": [
              "{'name': 'Wes',\n",
              " 'pet': None,\n",
              " 'places_lived': ['United States', 'Spain', 'Germany'],\n",
              " 'siblings': [{'age': 30, 'name': 'Scott', 'pets': ['Zeus', 'Zuko']},\n",
              "  {'age': 38, 'name': 'Katie', 'pets': ['Sixes', 'Stache', 'Cisco']}]}"
            ]
          },
          "metadata": {},
          "execution_count": 52
        }
      ]
    },
    {
      "cell_type": "code",
      "source": [
        "asjson = json.dumps(result)"
      ],
      "metadata": {
        "id": "_ICJ_91TpiGh"
      },
      "execution_count": null,
      "outputs": []
    },
    {
      "cell_type": "code",
      "source": [
        "siblings = pd.DataFrame(result['siblings'], columns=['name', 'age'])\n",
        "siblings"
      ],
      "metadata": {
        "colab": {
          "base_uri": "https://localhost:8080/",
          "height": 112
        },
        "id": "YIxEHM0bpiEe",
        "outputId": "54840bd4-af38-4787-b206-66f5e7be2514"
      },
      "execution_count": null,
      "outputs": [
        {
          "output_type": "execute_result",
          "data": {
            "text/html": [
              "<div>\n",
              "<style scoped>\n",
              "    .dataframe tbody tr th:only-of-type {\n",
              "        vertical-align: middle;\n",
              "    }\n",
              "\n",
              "    .dataframe tbody tr th {\n",
              "        vertical-align: top;\n",
              "    }\n",
              "\n",
              "    .dataframe thead th {\n",
              "        text-align: right;\n",
              "    }\n",
              "</style>\n",
              "<table border=\"1\" class=\"dataframe\">\n",
              "  <thead>\n",
              "    <tr style=\"text-align: right;\">\n",
              "      <th></th>\n",
              "      <th>name</th>\n",
              "      <th>age</th>\n",
              "    </tr>\n",
              "  </thead>\n",
              "  <tbody>\n",
              "    <tr>\n",
              "      <th>0</th>\n",
              "      <td>Scott</td>\n",
              "      <td>30</td>\n",
              "    </tr>\n",
              "    <tr>\n",
              "      <th>1</th>\n",
              "      <td>Katie</td>\n",
              "      <td>38</td>\n",
              "    </tr>\n",
              "  </tbody>\n",
              "</table>\n",
              "</div>"
            ],
            "text/plain": [
              "    name  age\n",
              "0  Scott   30\n",
              "1  Katie   38"
            ]
          },
          "metadata": {},
          "execution_count": 54
        }
      ]
    },
    {
      "cell_type": "code",
      "source": [
        "!cat /content/example.json"
      ],
      "metadata": {
        "colab": {
          "base_uri": "https://localhost:8080/"
        },
        "id": "no2gJGqEpiA0",
        "outputId": "e4a7285b-8385-43ce-c793-0eb29cf27c84"
      },
      "execution_count": null,
      "outputs": [
        {
          "output_type": "stream",
          "name": "stdout",
          "text": [
            "[{\"a\": 1, \"b\": 2, \"c\": 3},\n",
            " {\"a\": 4, \"b\": 5, \"c\": 6},\n",
            " {\"a\": 7, \"b\": 8, \"c\": 9}]\n"
          ]
        }
      ]
    },
    {
      "cell_type": "code",
      "source": [
        "data = pd.read_json('/content/example.json')\n",
        "data"
      ],
      "metadata": {
        "colab": {
          "base_uri": "https://localhost:8080/",
          "height": 143
        },
        "id": "iscaYN0tph_B",
        "outputId": "0128cf07-5c55-4336-824a-470cd902026c"
      },
      "execution_count": null,
      "outputs": [
        {
          "output_type": "execute_result",
          "data": {
            "text/html": [
              "<div>\n",
              "<style scoped>\n",
              "    .dataframe tbody tr th:only-of-type {\n",
              "        vertical-align: middle;\n",
              "    }\n",
              "\n",
              "    .dataframe tbody tr th {\n",
              "        vertical-align: top;\n",
              "    }\n",
              "\n",
              "    .dataframe thead th {\n",
              "        text-align: right;\n",
              "    }\n",
              "</style>\n",
              "<table border=\"1\" class=\"dataframe\">\n",
              "  <thead>\n",
              "    <tr style=\"text-align: right;\">\n",
              "      <th></th>\n",
              "      <th>a</th>\n",
              "      <th>b</th>\n",
              "      <th>c</th>\n",
              "    </tr>\n",
              "  </thead>\n",
              "  <tbody>\n",
              "    <tr>\n",
              "      <th>0</th>\n",
              "      <td>1</td>\n",
              "      <td>2</td>\n",
              "      <td>3</td>\n",
              "    </tr>\n",
              "    <tr>\n",
              "      <th>1</th>\n",
              "      <td>4</td>\n",
              "      <td>5</td>\n",
              "      <td>6</td>\n",
              "    </tr>\n",
              "    <tr>\n",
              "      <th>2</th>\n",
              "      <td>7</td>\n",
              "      <td>8</td>\n",
              "      <td>9</td>\n",
              "    </tr>\n",
              "  </tbody>\n",
              "</table>\n",
              "</div>"
            ],
            "text/plain": [
              "   a  b  c\n",
              "0  1  2  3\n",
              "1  4  5  6\n",
              "2  7  8  9"
            ]
          },
          "metadata": {},
          "execution_count": 57
        }
      ]
    },
    {
      "cell_type": "code",
      "source": [
        "print(data.to_json())\n",
        "print(data.to_json(orient='records'))"
      ],
      "metadata": {
        "colab": {
          "base_uri": "https://localhost:8080/"
        },
        "id": "erccUZPzqRyq",
        "outputId": "8aa00635-9254-4ba1-c5cf-9c51f42454ad"
      },
      "execution_count": null,
      "outputs": [
        {
          "output_type": "stream",
          "name": "stdout",
          "text": [
            "{\"a\":{\"0\":1,\"1\":4,\"2\":7},\"b\":{\"0\":2,\"1\":5,\"2\":8},\"c\":{\"0\":3,\"1\":6,\"2\":9}}\n",
            "[{\"a\":1,\"b\":2,\"c\":3},{\"a\":4,\"b\":5,\"c\":6},{\"a\":7,\"b\":8,\"c\":9}]\n"
          ]
        }
      ]
    },
    {
      "cell_type": "markdown",
      "source": [
        "XML and HTML: Web Scraping"
      ],
      "metadata": {
        "id": "1_7h-B39qVmo"
      }
    },
    {
      "cell_type": "code",
      "source": [
        "tables = pd.read_html('/content/fdic_failed_bank_list.html')\n",
        "len(tables)\n",
        "failures = tables[0]\n",
        "failures.head()"
      ],
      "metadata": {
        "colab": {
          "base_uri": "https://localhost:8080/",
          "height": 276
        },
        "id": "QMz5KofeqRwT",
        "outputId": "227ed8fa-3abd-4f69-8e44-bb9a98db543e"
      },
      "execution_count": null,
      "outputs": [
        {
          "output_type": "execute_result",
          "data": {
            "text/html": [
              "<div>\n",
              "<style scoped>\n",
              "    .dataframe tbody tr th:only-of-type {\n",
              "        vertical-align: middle;\n",
              "    }\n",
              "\n",
              "    .dataframe tbody tr th {\n",
              "        vertical-align: top;\n",
              "    }\n",
              "\n",
              "    .dataframe thead th {\n",
              "        text-align: right;\n",
              "    }\n",
              "</style>\n",
              "<table border=\"1\" class=\"dataframe\">\n",
              "  <thead>\n",
              "    <tr style=\"text-align: right;\">\n",
              "      <th></th>\n",
              "      <th>Bank Name</th>\n",
              "      <th>City</th>\n",
              "      <th>ST</th>\n",
              "      <th>CERT</th>\n",
              "      <th>Acquiring Institution</th>\n",
              "      <th>Closing Date</th>\n",
              "      <th>Updated Date</th>\n",
              "    </tr>\n",
              "  </thead>\n",
              "  <tbody>\n",
              "    <tr>\n",
              "      <th>0</th>\n",
              "      <td>Allied Bank</td>\n",
              "      <td>Mulberry</td>\n",
              "      <td>AR</td>\n",
              "      <td>91</td>\n",
              "      <td>Today's Bank</td>\n",
              "      <td>September 23, 2016</td>\n",
              "      <td>November 17, 2016</td>\n",
              "    </tr>\n",
              "    <tr>\n",
              "      <th>1</th>\n",
              "      <td>The Woodbury Banking Company</td>\n",
              "      <td>Woodbury</td>\n",
              "      <td>GA</td>\n",
              "      <td>11297</td>\n",
              "      <td>United Bank</td>\n",
              "      <td>August 19, 2016</td>\n",
              "      <td>November 17, 2016</td>\n",
              "    </tr>\n",
              "    <tr>\n",
              "      <th>2</th>\n",
              "      <td>First CornerStone Bank</td>\n",
              "      <td>King of Prussia</td>\n",
              "      <td>PA</td>\n",
              "      <td>35312</td>\n",
              "      <td>First-Citizens Bank &amp; Trust Company</td>\n",
              "      <td>May 6, 2016</td>\n",
              "      <td>September 6, 2016</td>\n",
              "    </tr>\n",
              "    <tr>\n",
              "      <th>3</th>\n",
              "      <td>Trust Company Bank</td>\n",
              "      <td>Memphis</td>\n",
              "      <td>TN</td>\n",
              "      <td>9956</td>\n",
              "      <td>The Bank of Fayette County</td>\n",
              "      <td>April 29, 2016</td>\n",
              "      <td>September 6, 2016</td>\n",
              "    </tr>\n",
              "    <tr>\n",
              "      <th>4</th>\n",
              "      <td>North Milwaukee State Bank</td>\n",
              "      <td>Milwaukee</td>\n",
              "      <td>WI</td>\n",
              "      <td>20364</td>\n",
              "      <td>First-Citizens Bank &amp; Trust Company</td>\n",
              "      <td>March 11, 2016</td>\n",
              "      <td>June 16, 2016</td>\n",
              "    </tr>\n",
              "  </tbody>\n",
              "</table>\n",
              "</div>"
            ],
            "text/plain": [
              "                      Bank Name  ...       Updated Date\n",
              "0                   Allied Bank  ...  November 17, 2016\n",
              "1  The Woodbury Banking Company  ...  November 17, 2016\n",
              "2        First CornerStone Bank  ...  September 6, 2016\n",
              "3            Trust Company Bank  ...  September 6, 2016\n",
              "4    North Milwaukee State Bank  ...      June 16, 2016\n",
              "\n",
              "[5 rows x 7 columns]"
            ]
          },
          "metadata": {},
          "execution_count": 60
        }
      ]
    },
    {
      "cell_type": "code",
      "source": [
        "close_timestamps = pd.to_datetime(failures['Closing Date'])\n",
        "close_timestamps.dt.year.value_counts()"
      ],
      "metadata": {
        "colab": {
          "base_uri": "https://localhost:8080/"
        },
        "id": "3LlbzHjrqRrc",
        "outputId": "fb03b898-160c-4a56-a8a2-ca0bc341eaee"
      },
      "execution_count": null,
      "outputs": [
        {
          "output_type": "execute_result",
          "data": {
            "text/plain": [
              "2010    157\n",
              "2009    140\n",
              "2011     92\n",
              "2012     51\n",
              "2008     25\n",
              "       ... \n",
              "2004      4\n",
              "2001      4\n",
              "2007      3\n",
              "2003      3\n",
              "2000      2\n",
              "Name: Closing Date, Length: 15, dtype: int64"
            ]
          },
          "metadata": {},
          "execution_count": 61
        }
      ]
    },
    {
      "cell_type": "markdown",
      "source": [
        "Parsing XML with lxml.objectify"
      ],
      "metadata": {
        "id": "Zhk_MRF2qlGO"
      }
    },
    {
      "cell_type": "code",
      "source": [
        "from lxml import objectify\n",
        "\n",
        "path = '/content/Performance_MNR.xml'\n",
        "parsed = objectify.parse(open(path))\n",
        "root = parsed.getroot()"
      ],
      "metadata": {
        "id": "kJVq6Y6SqRmx"
      },
      "execution_count": null,
      "outputs": []
    },
    {
      "cell_type": "code",
      "source": [
        "data = []\n",
        "\n",
        "skip_fields = ['PARENT_SEQ', 'INDICATOR_SEQ',\n",
        "               'DESIRED_CHANGE', 'DECIMAL_PLACES']\n",
        "\n",
        "for elt in root.INDICATOR:\n",
        "    el_data = {}\n",
        "    for child in elt.getchildren():\n",
        "        if child.tag in skip_fields:\n",
        "            continue\n",
        "        el_data[child.tag] = child.pyval\n",
        "    data.append(el_data)"
      ],
      "metadata": {
        "id": "zT9-nqIaqReZ"
      },
      "execution_count": null,
      "outputs": []
    },
    {
      "cell_type": "code",
      "source": [
        "perf = pd.DataFrame(data)\n",
        "perf.head()"
      ],
      "metadata": {
        "colab": {
          "base_uri": "https://localhost:8080/",
          "height": 573
        },
        "id": "wLvNmwptqRbT",
        "outputId": "a4826823-1f85-426b-d537-e8bfba8399c1"
      },
      "execution_count": null,
      "outputs": [
        {
          "output_type": "execute_result",
          "data": {
            "text/html": [
              "<div>\n",
              "<style scoped>\n",
              "    .dataframe tbody tr th:only-of-type {\n",
              "        vertical-align: middle;\n",
              "    }\n",
              "\n",
              "    .dataframe tbody tr th {\n",
              "        vertical-align: top;\n",
              "    }\n",
              "\n",
              "    .dataframe thead th {\n",
              "        text-align: right;\n",
              "    }\n",
              "</style>\n",
              "<table border=\"1\" class=\"dataframe\">\n",
              "  <thead>\n",
              "    <tr style=\"text-align: right;\">\n",
              "      <th></th>\n",
              "      <th>AGENCY_NAME</th>\n",
              "      <th>INDICATOR_NAME</th>\n",
              "      <th>DESCRIPTION</th>\n",
              "      <th>PERIOD_YEAR</th>\n",
              "      <th>PERIOD_MONTH</th>\n",
              "      <th>CATEGORY</th>\n",
              "      <th>FREQUENCY</th>\n",
              "      <th>INDICATOR_UNIT</th>\n",
              "      <th>YTD_TARGET</th>\n",
              "      <th>YTD_ACTUAL</th>\n",
              "      <th>MONTHLY_TARGET</th>\n",
              "      <th>MONTHLY_ACTUAL</th>\n",
              "    </tr>\n",
              "  </thead>\n",
              "  <tbody>\n",
              "    <tr>\n",
              "      <th>0</th>\n",
              "      <td>Metro-North Railroad</td>\n",
              "      <td>On-Time Performance (West of Hudson)</td>\n",
              "      <td>Percent of commuter trains that arrive at thei...</td>\n",
              "      <td>2008</td>\n",
              "      <td>1</td>\n",
              "      <td>Service Indicators</td>\n",
              "      <td>M</td>\n",
              "      <td>%</td>\n",
              "      <td>95</td>\n",
              "      <td>96.9</td>\n",
              "      <td>95</td>\n",
              "      <td>96.9</td>\n",
              "    </tr>\n",
              "    <tr>\n",
              "      <th>1</th>\n",
              "      <td>Metro-North Railroad</td>\n",
              "      <td>On-Time Performance (West of Hudson)</td>\n",
              "      <td>Percent of commuter trains that arrive at thei...</td>\n",
              "      <td>2008</td>\n",
              "      <td>2</td>\n",
              "      <td>Service Indicators</td>\n",
              "      <td>M</td>\n",
              "      <td>%</td>\n",
              "      <td>95</td>\n",
              "      <td>96</td>\n",
              "      <td>95</td>\n",
              "      <td>95</td>\n",
              "    </tr>\n",
              "    <tr>\n",
              "      <th>2</th>\n",
              "      <td>Metro-North Railroad</td>\n",
              "      <td>On-Time Performance (West of Hudson)</td>\n",
              "      <td>Percent of commuter trains that arrive at thei...</td>\n",
              "      <td>2008</td>\n",
              "      <td>3</td>\n",
              "      <td>Service Indicators</td>\n",
              "      <td>M</td>\n",
              "      <td>%</td>\n",
              "      <td>95</td>\n",
              "      <td>96.3</td>\n",
              "      <td>95</td>\n",
              "      <td>96.9</td>\n",
              "    </tr>\n",
              "    <tr>\n",
              "      <th>3</th>\n",
              "      <td>Metro-North Railroad</td>\n",
              "      <td>On-Time Performance (West of Hudson)</td>\n",
              "      <td>Percent of commuter trains that arrive at thei...</td>\n",
              "      <td>2008</td>\n",
              "      <td>4</td>\n",
              "      <td>Service Indicators</td>\n",
              "      <td>M</td>\n",
              "      <td>%</td>\n",
              "      <td>95</td>\n",
              "      <td>96.8</td>\n",
              "      <td>95</td>\n",
              "      <td>98.3</td>\n",
              "    </tr>\n",
              "    <tr>\n",
              "      <th>4</th>\n",
              "      <td>Metro-North Railroad</td>\n",
              "      <td>On-Time Performance (West of Hudson)</td>\n",
              "      <td>Percent of commuter trains that arrive at thei...</td>\n",
              "      <td>2008</td>\n",
              "      <td>5</td>\n",
              "      <td>Service Indicators</td>\n",
              "      <td>M</td>\n",
              "      <td>%</td>\n",
              "      <td>95</td>\n",
              "      <td>96.6</td>\n",
              "      <td>95</td>\n",
              "      <td>95.8</td>\n",
              "    </tr>\n",
              "  </tbody>\n",
              "</table>\n",
              "</div>"
            ],
            "text/plain": [
              "            AGENCY_NAME  ... MONTHLY_ACTUAL\n",
              "0  Metro-North Railroad  ...           96.9\n",
              "1  Metro-North Railroad  ...             95\n",
              "2  Metro-North Railroad  ...           96.9\n",
              "3  Metro-North Railroad  ...           98.3\n",
              "4  Metro-North Railroad  ...           95.8\n",
              "\n",
              "[5 rows x 12 columns]"
            ]
          },
          "metadata": {},
          "execution_count": 64
        }
      ]
    },
    {
      "cell_type": "code",
      "source": [
        "from io import StringIO\n",
        "tag = '<a href=\"http://www.google.com\">Google</a>'\n",
        "root = objectify.parse(StringIO(tag)).getroot()"
      ],
      "metadata": {
        "id": "2iw8PWGnqRXX"
      },
      "execution_count": null,
      "outputs": []
    },
    {
      "cell_type": "code",
      "source": [
        "root\n",
        "root.get('href')\n",
        "root.text"
      ],
      "metadata": {
        "colab": {
          "base_uri": "https://localhost:8080/",
          "height": 35
        },
        "id": "B20Ap7NzqRT2",
        "outputId": "6c086cb7-0b41-4783-e1da-93bdc9ad04b0"
      },
      "execution_count": null,
      "outputs": [
        {
          "output_type": "execute_result",
          "data": {
            "application/vnd.google.colaboratory.intrinsic+json": {
              "type": "string"
            },
            "text/plain": [
              "'Google'"
            ]
          },
          "metadata": {},
          "execution_count": 66
        }
      ]
    },
    {
      "cell_type": "markdown",
      "source": [
        "Binary Data Formats"
      ],
      "metadata": {
        "id": "jT2lADS4rCd_"
      }
    },
    {
      "cell_type": "code",
      "source": [
        "frame = pd.read_csv('/content/ex1.csv')\n",
        "frame\n",
        "frame.to_pickle('/content/frame_pickle')"
      ],
      "metadata": {
        "id": "6FotraOjqROO"
      },
      "execution_count": null,
      "outputs": []
    },
    {
      "cell_type": "code",
      "source": [
        "pd.read_pickle('/content/frame_pickle')"
      ],
      "metadata": {
        "colab": {
          "base_uri": "https://localhost:8080/",
          "height": 143
        },
        "id": "ka04TNZeqRLf",
        "outputId": "cc8d1e14-cd22-4f24-d086-f6c319f85bec"
      },
      "execution_count": null,
      "outputs": [
        {
          "output_type": "execute_result",
          "data": {
            "text/html": [
              "<div>\n",
              "<style scoped>\n",
              "    .dataframe tbody tr th:only-of-type {\n",
              "        vertical-align: middle;\n",
              "    }\n",
              "\n",
              "    .dataframe tbody tr th {\n",
              "        vertical-align: top;\n",
              "    }\n",
              "\n",
              "    .dataframe thead th {\n",
              "        text-align: right;\n",
              "    }\n",
              "</style>\n",
              "<table border=\"1\" class=\"dataframe\">\n",
              "  <thead>\n",
              "    <tr style=\"text-align: right;\">\n",
              "      <th></th>\n",
              "      <th>a</th>\n",
              "      <th>b</th>\n",
              "      <th>c</th>\n",
              "      <th>d</th>\n",
              "      <th>message</th>\n",
              "    </tr>\n",
              "  </thead>\n",
              "  <tbody>\n",
              "    <tr>\n",
              "      <th>0</th>\n",
              "      <td>1</td>\n",
              "      <td>2</td>\n",
              "      <td>3</td>\n",
              "      <td>4</td>\n",
              "      <td>hello</td>\n",
              "    </tr>\n",
              "    <tr>\n",
              "      <th>1</th>\n",
              "      <td>5</td>\n",
              "      <td>6</td>\n",
              "      <td>7</td>\n",
              "      <td>8</td>\n",
              "      <td>world</td>\n",
              "    </tr>\n",
              "    <tr>\n",
              "      <th>2</th>\n",
              "      <td>9</td>\n",
              "      <td>10</td>\n",
              "      <td>11</td>\n",
              "      <td>12</td>\n",
              "      <td>foo</td>\n",
              "    </tr>\n",
              "  </tbody>\n",
              "</table>\n",
              "</div>"
            ],
            "text/plain": [
              "   a   b   c   d message\n",
              "0  1   2   3   4   hello\n",
              "1  5   6   7   8   world\n",
              "2  9  10  11  12     foo"
            ]
          },
          "metadata": {},
          "execution_count": 70
        }
      ]
    },
    {
      "cell_type": "code",
      "source": [
        "!rm /content/frame_pickle"
      ],
      "metadata": {
        "id": "HN_5QevFrWZ0"
      },
      "execution_count": null,
      "outputs": []
    },
    {
      "cell_type": "markdown",
      "source": [
        "Using HDF5 Format"
      ],
      "metadata": {
        "id": "qZBYPq2praQr"
      }
    },
    {
      "cell_type": "code",
      "source": [
        "frame = pd.DataFrame({'a': np.random.randn(100)})\n",
        "store = pd.HDFStore('mydata.h5')\n",
        "store['obj1'] = frame\n",
        "store['obj1_col'] = frame['a']\n",
        "store"
      ],
      "metadata": {
        "colab": {
          "base_uri": "https://localhost:8080/"
        },
        "id": "wG-2KzpMrbA1",
        "outputId": "db0d65bc-e330-4e46-89ca-cb94226bcdc6"
      },
      "execution_count": null,
      "outputs": [
        {
          "output_type": "execute_result",
          "data": {
            "text/plain": [
              "<class 'pandas.io.pytables.HDFStore'>\n",
              "File path: mydata.h5"
            ]
          },
          "metadata": {},
          "execution_count": 72
        }
      ]
    },
    {
      "cell_type": "code",
      "source": [
        "store['obj1']"
      ],
      "metadata": {
        "colab": {
          "base_uri": "https://localhost:8080/",
          "height": 424
        },
        "id": "8XByU4q2rbGh",
        "outputId": "a2ef2ae1-cfea-4af3-b658-0fb585d42ce1"
      },
      "execution_count": null,
      "outputs": [
        {
          "output_type": "execute_result",
          "data": {
            "text/html": [
              "<div>\n",
              "<style scoped>\n",
              "    .dataframe tbody tr th:only-of-type {\n",
              "        vertical-align: middle;\n",
              "    }\n",
              "\n",
              "    .dataframe tbody tr th {\n",
              "        vertical-align: top;\n",
              "    }\n",
              "\n",
              "    .dataframe thead th {\n",
              "        text-align: right;\n",
              "    }\n",
              "</style>\n",
              "<table border=\"1\" class=\"dataframe\">\n",
              "  <thead>\n",
              "    <tr style=\"text-align: right;\">\n",
              "      <th></th>\n",
              "      <th>a</th>\n",
              "    </tr>\n",
              "  </thead>\n",
              "  <tbody>\n",
              "    <tr>\n",
              "      <th>0</th>\n",
              "      <td>-0.651249</td>\n",
              "    </tr>\n",
              "    <tr>\n",
              "      <th>1</th>\n",
              "      <td>1.033033</td>\n",
              "    </tr>\n",
              "    <tr>\n",
              "      <th>2</th>\n",
              "      <td>0.387635</td>\n",
              "    </tr>\n",
              "    <tr>\n",
              "      <th>3</th>\n",
              "      <td>1.387562</td>\n",
              "    </tr>\n",
              "    <tr>\n",
              "      <th>4</th>\n",
              "      <td>0.480905</td>\n",
              "    </tr>\n",
              "    <tr>\n",
              "      <th>...</th>\n",
              "      <td>...</td>\n",
              "    </tr>\n",
              "    <tr>\n",
              "      <th>95</th>\n",
              "      <td>0.800601</td>\n",
              "    </tr>\n",
              "    <tr>\n",
              "      <th>96</th>\n",
              "      <td>2.052368</td>\n",
              "    </tr>\n",
              "    <tr>\n",
              "      <th>97</th>\n",
              "      <td>0.582125</td>\n",
              "    </tr>\n",
              "    <tr>\n",
              "      <th>98</th>\n",
              "      <td>-0.597618</td>\n",
              "    </tr>\n",
              "    <tr>\n",
              "      <th>99</th>\n",
              "      <td>1.259890</td>\n",
              "    </tr>\n",
              "  </tbody>\n",
              "</table>\n",
              "<p>100 rows × 1 columns</p>\n",
              "</div>"
            ],
            "text/plain": [
              "           a\n",
              "0  -0.651249\n",
              "1   1.033033\n",
              "2   0.387635\n",
              "3   1.387562\n",
              "4   0.480905\n",
              "..       ...\n",
              "95  0.800601\n",
              "96  2.052368\n",
              "97  0.582125\n",
              "98 -0.597618\n",
              "99  1.259890\n",
              "\n",
              "[100 rows x 1 columns]"
            ]
          },
          "metadata": {},
          "execution_count": 73
        }
      ]
    },
    {
      "cell_type": "code",
      "source": [
        "store.put('obj2', frame, format='table')\n",
        "store.select('obj2', where=['index >= 10 and index <= 15'])\n",
        "store.close()"
      ],
      "metadata": {
        "id": "DGOqECKTrcV3"
      },
      "execution_count": null,
      "outputs": []
    },
    {
      "cell_type": "code",
      "source": [
        "frame.to_hdf('mydata.h5', 'obj3', format='table')\n",
        "pd.read_hdf('mydata.h5', 'obj3', where=['index < 5'])"
      ],
      "metadata": {
        "colab": {
          "base_uri": "https://localhost:8080/",
          "height": 206
        },
        "id": "h_A1xxs6rcR4",
        "outputId": "eb0e25c7-8e37-49be-e8cd-b26122349465"
      },
      "execution_count": null,
      "outputs": [
        {
          "output_type": "execute_result",
          "data": {
            "text/html": [
              "<div>\n",
              "<style scoped>\n",
              "    .dataframe tbody tr th:only-of-type {\n",
              "        vertical-align: middle;\n",
              "    }\n",
              "\n",
              "    .dataframe tbody tr th {\n",
              "        vertical-align: top;\n",
              "    }\n",
              "\n",
              "    .dataframe thead th {\n",
              "        text-align: right;\n",
              "    }\n",
              "</style>\n",
              "<table border=\"1\" class=\"dataframe\">\n",
              "  <thead>\n",
              "    <tr style=\"text-align: right;\">\n",
              "      <th></th>\n",
              "      <th>a</th>\n",
              "    </tr>\n",
              "  </thead>\n",
              "  <tbody>\n",
              "    <tr>\n",
              "      <th>0</th>\n",
              "      <td>-0.651249</td>\n",
              "    </tr>\n",
              "    <tr>\n",
              "      <th>1</th>\n",
              "      <td>1.033033</td>\n",
              "    </tr>\n",
              "    <tr>\n",
              "      <th>2</th>\n",
              "      <td>0.387635</td>\n",
              "    </tr>\n",
              "    <tr>\n",
              "      <th>3</th>\n",
              "      <td>1.387562</td>\n",
              "    </tr>\n",
              "    <tr>\n",
              "      <th>4</th>\n",
              "      <td>0.480905</td>\n",
              "    </tr>\n",
              "  </tbody>\n",
              "</table>\n",
              "</div>"
            ],
            "text/plain": [
              "          a\n",
              "0 -0.651249\n",
              "1  1.033033\n",
              "2  0.387635\n",
              "3  1.387562\n",
              "4  0.480905"
            ]
          },
          "metadata": {},
          "execution_count": 75
        }
      ]
    },
    {
      "cell_type": "code",
      "source": [
        "!rm /content/mydata.h5"
      ],
      "metadata": {
        "id": "59kPW1OWrcQB"
      },
      "execution_count": null,
      "outputs": []
    },
    {
      "cell_type": "markdown",
      "source": [
        "Reading Microsoft Excel Files"
      ],
      "metadata": {
        "id": "hZa3X_Nwryn1"
      }
    },
    {
      "cell_type": "code",
      "source": [
        "xlsx = pd.ExcelFile('/content/ex1.xlsx')"
      ],
      "metadata": {
        "id": "cORKaAvprzUL"
      },
      "execution_count": null,
      "outputs": []
    },
    {
      "cell_type": "code",
      "source": [
        "pd.read_excel(xlsx, 'Sheet1')"
      ],
      "metadata": {
        "colab": {
          "base_uri": "https://localhost:8080/",
          "height": 143
        },
        "id": "kYs6SHsTr0dp",
        "outputId": "552f89a0-f3a0-4ce6-88ba-c5e6cc09aede"
      },
      "execution_count": null,
      "outputs": [
        {
          "output_type": "execute_result",
          "data": {
            "text/html": [
              "<div>\n",
              "<style scoped>\n",
              "    .dataframe tbody tr th:only-of-type {\n",
              "        vertical-align: middle;\n",
              "    }\n",
              "\n",
              "    .dataframe tbody tr th {\n",
              "        vertical-align: top;\n",
              "    }\n",
              "\n",
              "    .dataframe thead th {\n",
              "        text-align: right;\n",
              "    }\n",
              "</style>\n",
              "<table border=\"1\" class=\"dataframe\">\n",
              "  <thead>\n",
              "    <tr style=\"text-align: right;\">\n",
              "      <th></th>\n",
              "      <th>Unnamed: 0</th>\n",
              "      <th>a</th>\n",
              "      <th>b</th>\n",
              "      <th>c</th>\n",
              "      <th>d</th>\n",
              "      <th>message</th>\n",
              "    </tr>\n",
              "  </thead>\n",
              "  <tbody>\n",
              "    <tr>\n",
              "      <th>0</th>\n",
              "      <td>0</td>\n",
              "      <td>1</td>\n",
              "      <td>2</td>\n",
              "      <td>3</td>\n",
              "      <td>4</td>\n",
              "      <td>hello</td>\n",
              "    </tr>\n",
              "    <tr>\n",
              "      <th>1</th>\n",
              "      <td>1</td>\n",
              "      <td>5</td>\n",
              "      <td>6</td>\n",
              "      <td>7</td>\n",
              "      <td>8</td>\n",
              "      <td>world</td>\n",
              "    </tr>\n",
              "    <tr>\n",
              "      <th>2</th>\n",
              "      <td>2</td>\n",
              "      <td>9</td>\n",
              "      <td>10</td>\n",
              "      <td>11</td>\n",
              "      <td>12</td>\n",
              "      <td>foo</td>\n",
              "    </tr>\n",
              "  </tbody>\n",
              "</table>\n",
              "</div>"
            ],
            "text/plain": [
              "   Unnamed: 0  a   b   c   d message\n",
              "0           0  1   2   3   4   hello\n",
              "1           1  5   6   7   8   world\n",
              "2           2  9  10  11  12     foo"
            ]
          },
          "metadata": {},
          "execution_count": 78
        }
      ]
    },
    {
      "cell_type": "code",
      "source": [
        "frame = pd.read_excel('/content/ex1.xlsx', 'Sheet1')\n",
        "frame"
      ],
      "metadata": {
        "colab": {
          "base_uri": "https://localhost:8080/",
          "height": 143
        },
        "id": "QOTK5AZ6r0ZH",
        "outputId": "3b4926b9-ad12-4667-d879-e2a864c04ae2"
      },
      "execution_count": null,
      "outputs": [
        {
          "output_type": "execute_result",
          "data": {
            "text/html": [
              "<div>\n",
              "<style scoped>\n",
              "    .dataframe tbody tr th:only-of-type {\n",
              "        vertical-align: middle;\n",
              "    }\n",
              "\n",
              "    .dataframe tbody tr th {\n",
              "        vertical-align: top;\n",
              "    }\n",
              "\n",
              "    .dataframe thead th {\n",
              "        text-align: right;\n",
              "    }\n",
              "</style>\n",
              "<table border=\"1\" class=\"dataframe\">\n",
              "  <thead>\n",
              "    <tr style=\"text-align: right;\">\n",
              "      <th></th>\n",
              "      <th>Unnamed: 0</th>\n",
              "      <th>a</th>\n",
              "      <th>b</th>\n",
              "      <th>c</th>\n",
              "      <th>d</th>\n",
              "      <th>message</th>\n",
              "    </tr>\n",
              "  </thead>\n",
              "  <tbody>\n",
              "    <tr>\n",
              "      <th>0</th>\n",
              "      <td>0</td>\n",
              "      <td>1</td>\n",
              "      <td>2</td>\n",
              "      <td>3</td>\n",
              "      <td>4</td>\n",
              "      <td>hello</td>\n",
              "    </tr>\n",
              "    <tr>\n",
              "      <th>1</th>\n",
              "      <td>1</td>\n",
              "      <td>5</td>\n",
              "      <td>6</td>\n",
              "      <td>7</td>\n",
              "      <td>8</td>\n",
              "      <td>world</td>\n",
              "    </tr>\n",
              "    <tr>\n",
              "      <th>2</th>\n",
              "      <td>2</td>\n",
              "      <td>9</td>\n",
              "      <td>10</td>\n",
              "      <td>11</td>\n",
              "      <td>12</td>\n",
              "      <td>foo</td>\n",
              "    </tr>\n",
              "  </tbody>\n",
              "</table>\n",
              "</div>"
            ],
            "text/plain": [
              "   Unnamed: 0  a   b   c   d message\n",
              "0           0  1   2   3   4   hello\n",
              "1           1  5   6   7   8   world\n",
              "2           2  9  10  11  12     foo"
            ]
          },
          "metadata": {},
          "execution_count": 79
        }
      ]
    },
    {
      "cell_type": "code",
      "source": [
        "writer = pd.ExcelWriter('/content/ex2.xlsx')\n",
        "frame.to_excel(writer, 'Sheet1')\n",
        "writer.save()"
      ],
      "metadata": {
        "id": "Tv5D-5u8r0XA"
      },
      "execution_count": null,
      "outputs": []
    },
    {
      "cell_type": "code",
      "source": [
        "frame.to_excel('/content/ex2.xlsx')"
      ],
      "metadata": {
        "id": "XCthFRYyr0UH"
      },
      "execution_count": null,
      "outputs": []
    },
    {
      "cell_type": "code",
      "source": [
        "!rm /content/ex2.xlsx"
      ],
      "metadata": {
        "id": "fmRNIRinr0Ru"
      },
      "execution_count": null,
      "outputs": []
    },
    {
      "cell_type": "markdown",
      "source": [
        "Interacting with Web APIs"
      ],
      "metadata": {
        "id": "ZBUpUuzhsYXj"
      }
    },
    {
      "cell_type": "code",
      "source": [
        "import requests\n",
        "url = 'https://api.github.com/repos/pandas-dev/pandas/issues'\n",
        "resp = requests.get(url)\n",
        "resp"
      ],
      "metadata": {
        "colab": {
          "base_uri": "https://localhost:8080/"
        },
        "id": "6W7_XCzRr0ON",
        "outputId": "225db18a-64f8-4536-9219-ab106db90a5d"
      },
      "execution_count": null,
      "outputs": [
        {
          "output_type": "execute_result",
          "data": {
            "text/plain": [
              "<Response [200]>"
            ]
          },
          "metadata": {},
          "execution_count": 83
        }
      ]
    },
    {
      "cell_type": "code",
      "source": [
        "data = resp.json()\n",
        "data[0]['title']"
      ],
      "metadata": {
        "colab": {
          "base_uri": "https://localhost:8080/",
          "height": 35
        },
        "id": "PqCz1ta2r0LZ",
        "outputId": "89fe2fdc-d5a6-4ec3-e2e3-56ac67c320e9"
      },
      "execution_count": null,
      "outputs": [
        {
          "output_type": "execute_result",
          "data": {
            "application/vnd.google.colaboratory.intrinsic+json": {
              "type": "string"
            },
            "text/plain": [
              "'BUG: SparseArray.min/max skipna'"
            ]
          },
          "metadata": {},
          "execution_count": 84
        }
      ]
    },
    {
      "cell_type": "code",
      "source": [
        "issues = pd.DataFrame(data, columns=['number', 'title',\n",
        "                                     'labels', 'state'])\n",
        "issues"
      ],
      "metadata": {
        "colab": {
          "base_uri": "https://localhost:8080/",
          "height": 424
        },
        "id": "5OL2jej7sjuR",
        "outputId": "1bcf0c34-f928-40f4-e644-26eb6070cf24"
      },
      "execution_count": null,
      "outputs": [
        {
          "output_type": "execute_result",
          "data": {
            "text/html": [
              "<div>\n",
              "<style scoped>\n",
              "    .dataframe tbody tr th:only-of-type {\n",
              "        vertical-align: middle;\n",
              "    }\n",
              "\n",
              "    .dataframe tbody tr th {\n",
              "        vertical-align: top;\n",
              "    }\n",
              "\n",
              "    .dataframe thead th {\n",
              "        text-align: right;\n",
              "    }\n",
              "</style>\n",
              "<table border=\"1\" class=\"dataframe\">\n",
              "  <thead>\n",
              "    <tr style=\"text-align: right;\">\n",
              "      <th></th>\n",
              "      <th>number</th>\n",
              "      <th>title</th>\n",
              "      <th>labels</th>\n",
              "      <th>state</th>\n",
              "    </tr>\n",
              "  </thead>\n",
              "  <tbody>\n",
              "    <tr>\n",
              "      <th>0</th>\n",
              "      <td>44829</td>\n",
              "      <td>BUG: SparseArray.min/max skipna</td>\n",
              "      <td>[]</td>\n",
              "      <td>open</td>\n",
              "    </tr>\n",
              "    <tr>\n",
              "      <th>1</th>\n",
              "      <td>44828</td>\n",
              "      <td>REGR: resampling DataFrame with DateTimeIndex ...</td>\n",
              "      <td>[{'id': 211840, 'node_id': 'MDU6TGFiZWwyMTE4ND...</td>\n",
              "      <td>open</td>\n",
              "    </tr>\n",
              "    <tr>\n",
              "      <th>2</th>\n",
              "      <td>44825</td>\n",
              "      <td>BUG: rolling with method='table' and then appl...</td>\n",
              "      <td>[{'id': 76811, 'node_id': 'MDU6TGFiZWw3NjgxMQ=...</td>\n",
              "      <td>open</td>\n",
              "    </tr>\n",
              "    <tr>\n",
              "      <th>3</th>\n",
              "      <td>44824</td>\n",
              "      <td>BUG: Fix regression in groupby.rolling.corr/co...</td>\n",
              "      <td>[{'id': 32815646, 'node_id': 'MDU6TGFiZWwzMjgx...</td>\n",
              "      <td>open</td>\n",
              "    </tr>\n",
              "    <tr>\n",
              "      <th>4</th>\n",
              "      <td>44823</td>\n",
              "      <td>API: Breaking Changes in 2.0 (without deprecat...</td>\n",
              "      <td>[{'id': 87485152, 'node_id': 'MDU6TGFiZWw4NzQ4...</td>\n",
              "      <td>open</td>\n",
              "    </tr>\n",
              "    <tr>\n",
              "      <th>...</th>\n",
              "      <td>...</td>\n",
              "      <td>...</td>\n",
              "      <td>...</td>\n",
              "      <td>...</td>\n",
              "    </tr>\n",
              "    <tr>\n",
              "      <th>25</th>\n",
              "      <td>44788</td>\n",
              "      <td>BUG: One column 2d arrays not coerced to 1d wi...</td>\n",
              "      <td>[{'id': 76811, 'node_id': 'MDU6TGFiZWw3NjgxMQ=...</td>\n",
              "      <td>open</td>\n",
              "    </tr>\n",
              "    <tr>\n",
              "      <th>26</th>\n",
              "      <td>44787</td>\n",
              "      <td>ENH: add support for reading .tar archives</td>\n",
              "      <td>[{'id': 2301354, 'node_id': 'MDU6TGFiZWwyMzAxM...</td>\n",
              "      <td>open</td>\n",
              "    </tr>\n",
              "    <tr>\n",
              "      <th>27</th>\n",
              "      <td>44786</td>\n",
              "      <td>BUG: Concat returns inconsistent MultiIndex</td>\n",
              "      <td>[{'id': 76811, 'node_id': 'MDU6TGFiZWw3NjgxMQ=...</td>\n",
              "      <td>open</td>\n",
              "    </tr>\n",
              "    <tr>\n",
              "      <th>28</th>\n",
              "      <td>44785</td>\n",
              "      <td>BUG: Confusing error message when clipping dat...</td>\n",
              "      <td>[{'id': 76811, 'node_id': 'MDU6TGFiZWw3NjgxMQ=...</td>\n",
              "      <td>open</td>\n",
              "    </tr>\n",
              "    <tr>\n",
              "      <th>29</th>\n",
              "      <td>44784</td>\n",
              "      <td>BUG: Broadcasting for binary operators</td>\n",
              "      <td>[{'id': 76811, 'node_id': 'MDU6TGFiZWw3NjgxMQ=...</td>\n",
              "      <td>open</td>\n",
              "    </tr>\n",
              "  </tbody>\n",
              "</table>\n",
              "<p>30 rows × 4 columns</p>\n",
              "</div>"
            ],
            "text/plain": [
              "    number  ... state\n",
              "0    44829  ...  open\n",
              "1    44828  ...  open\n",
              "2    44825  ...  open\n",
              "3    44824  ...  open\n",
              "4    44823  ...  open\n",
              "..     ...  ...   ...\n",
              "25   44788  ...  open\n",
              "26   44787  ...  open\n",
              "27   44786  ...  open\n",
              "28   44785  ...  open\n",
              "29   44784  ...  open\n",
              "\n",
              "[30 rows x 4 columns]"
            ]
          },
          "metadata": {},
          "execution_count": 85
        }
      ]
    },
    {
      "cell_type": "markdown",
      "source": [
        "Interacting with Databases"
      ],
      "metadata": {
        "id": "5oS66AT4sq6G"
      }
    },
    {
      "cell_type": "code",
      "source": [
        "import sqlite3\n",
        "query = \"\"\"\n",
        "CREATE TABLE test\n",
        "(a VARCHAR(20), b VARCHAR(20),\n",
        " c REAL,        d INTEGER\n",
        ");\"\"\"\n",
        "con = sqlite3.connect('mydata.sqlite')\n",
        "con.execute(query)\n",
        "con.commit()"
      ],
      "metadata": {
        "id": "WplmfU5HsjqQ"
      },
      "execution_count": null,
      "outputs": []
    },
    {
      "cell_type": "code",
      "source": [
        "data = [('Atlanta', 'Georgia', 1.25, 6),\n",
        "        ('Tallahassee', 'Florida', 2.6, 3),\n",
        "        ('Sacramento', 'California', 1.7, 5)]\n",
        "stmt = \"INSERT INTO test VALUES(?, ?, ?, ?)\"\n",
        "con.executemany(stmt, data)\n",
        "con.commit()"
      ],
      "metadata": {
        "id": "SQ4oBxNUsjoS"
      },
      "execution_count": null,
      "outputs": []
    },
    {
      "cell_type": "code",
      "source": [
        "cursor = con.execute('select * from test')\n",
        "rows = cursor.fetchall()\n",
        "rows"
      ],
      "metadata": {
        "colab": {
          "base_uri": "https://localhost:8080/"
        },
        "id": "5obKNDZjs1GD",
        "outputId": "5fdcee69-04c4-4376-9528-7ae22c91c64d"
      },
      "execution_count": null,
      "outputs": [
        {
          "output_type": "execute_result",
          "data": {
            "text/plain": [
              "[('Atlanta', 'Georgia', 1.25, 6),\n",
              " ('Tallahassee', 'Florida', 2.6, 3),\n",
              " ('Sacramento', 'California', 1.7, 5)]"
            ]
          },
          "metadata": {},
          "execution_count": 89
        }
      ]
    },
    {
      "cell_type": "code",
      "source": [
        "cursor.description\n",
        "pd.DataFrame(rows, columns=[x[0] for x in cursor.description])"
      ],
      "metadata": {
        "colab": {
          "base_uri": "https://localhost:8080/",
          "height": 143
        },
        "id": "vI8f2Qaxs01w",
        "outputId": "cf160e90-46f6-4231-840e-0a14903e2063"
      },
      "execution_count": null,
      "outputs": [
        {
          "output_type": "execute_result",
          "data": {
            "text/html": [
              "<div>\n",
              "<style scoped>\n",
              "    .dataframe tbody tr th:only-of-type {\n",
              "        vertical-align: middle;\n",
              "    }\n",
              "\n",
              "    .dataframe tbody tr th {\n",
              "        vertical-align: top;\n",
              "    }\n",
              "\n",
              "    .dataframe thead th {\n",
              "        text-align: right;\n",
              "    }\n",
              "</style>\n",
              "<table border=\"1\" class=\"dataframe\">\n",
              "  <thead>\n",
              "    <tr style=\"text-align: right;\">\n",
              "      <th></th>\n",
              "      <th>a</th>\n",
              "      <th>b</th>\n",
              "      <th>c</th>\n",
              "      <th>d</th>\n",
              "    </tr>\n",
              "  </thead>\n",
              "  <tbody>\n",
              "    <tr>\n",
              "      <th>0</th>\n",
              "      <td>Atlanta</td>\n",
              "      <td>Georgia</td>\n",
              "      <td>1.25</td>\n",
              "      <td>6</td>\n",
              "    </tr>\n",
              "    <tr>\n",
              "      <th>1</th>\n",
              "      <td>Tallahassee</td>\n",
              "      <td>Florida</td>\n",
              "      <td>2.60</td>\n",
              "      <td>3</td>\n",
              "    </tr>\n",
              "    <tr>\n",
              "      <th>2</th>\n",
              "      <td>Sacramento</td>\n",
              "      <td>California</td>\n",
              "      <td>1.70</td>\n",
              "      <td>5</td>\n",
              "    </tr>\n",
              "  </tbody>\n",
              "</table>\n",
              "</div>"
            ],
            "text/plain": [
              "             a           b     c  d\n",
              "0      Atlanta     Georgia  1.25  6\n",
              "1  Tallahassee     Florida  2.60  3\n",
              "2   Sacramento  California  1.70  5"
            ]
          },
          "metadata": {},
          "execution_count": 90
        }
      ]
    },
    {
      "cell_type": "code",
      "source": [
        "import sqlalchemy as sqla\n",
        "db = sqla.create_engine('sqlite:///mydata.sqlite')\n",
        "pd.read_sql('select * from test', db)"
      ],
      "metadata": {
        "colab": {
          "base_uri": "https://localhost:8080/",
          "height": 143
        },
        "id": "39nkaQBMs_jp",
        "outputId": "52a92646-a4ff-4ae9-ce88-fd30ac778f48"
      },
      "execution_count": null,
      "outputs": [
        {
          "output_type": "execute_result",
          "data": {
            "text/html": [
              "<div>\n",
              "<style scoped>\n",
              "    .dataframe tbody tr th:only-of-type {\n",
              "        vertical-align: middle;\n",
              "    }\n",
              "\n",
              "    .dataframe tbody tr th {\n",
              "        vertical-align: top;\n",
              "    }\n",
              "\n",
              "    .dataframe thead th {\n",
              "        text-align: right;\n",
              "    }\n",
              "</style>\n",
              "<table border=\"1\" class=\"dataframe\">\n",
              "  <thead>\n",
              "    <tr style=\"text-align: right;\">\n",
              "      <th></th>\n",
              "      <th>a</th>\n",
              "      <th>b</th>\n",
              "      <th>c</th>\n",
              "      <th>d</th>\n",
              "    </tr>\n",
              "  </thead>\n",
              "  <tbody>\n",
              "    <tr>\n",
              "      <th>0</th>\n",
              "      <td>Atlanta</td>\n",
              "      <td>Georgia</td>\n",
              "      <td>1.25</td>\n",
              "      <td>6</td>\n",
              "    </tr>\n",
              "    <tr>\n",
              "      <th>1</th>\n",
              "      <td>Tallahassee</td>\n",
              "      <td>Florida</td>\n",
              "      <td>2.60</td>\n",
              "      <td>3</td>\n",
              "    </tr>\n",
              "    <tr>\n",
              "      <th>2</th>\n",
              "      <td>Sacramento</td>\n",
              "      <td>California</td>\n",
              "      <td>1.70</td>\n",
              "      <td>5</td>\n",
              "    </tr>\n",
              "  </tbody>\n",
              "</table>\n",
              "</div>"
            ],
            "text/plain": [
              "             a           b     c  d\n",
              "0      Atlanta     Georgia  1.25  6\n",
              "1  Tallahassee     Florida  2.60  3\n",
              "2   Sacramento  California  1.70  5"
            ]
          },
          "metadata": {},
          "execution_count": 91
        }
      ]
    },
    {
      "cell_type": "code",
      "source": [
        "!rm mydata.sqlite"
      ],
      "metadata": {
        "id": "tryEyryPtDfK"
      },
      "execution_count": null,
      "outputs": []
    }
  ]
}