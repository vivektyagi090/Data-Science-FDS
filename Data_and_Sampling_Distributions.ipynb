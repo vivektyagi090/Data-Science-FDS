{
  "nbformat": 4,
  "nbformat_minor": 0,
  "metadata": {
    "colab": {
      "name": "Data and Sampling Distributions.ipynb",
      "provenance": []
    },
    "kernelspec": {
      "name": "python3",
      "display_name": "Python 3"
    },
    "language_info": {
      "name": "python"
    }
  },
  "cells": [
    {
      "cell_type": "code",
      "metadata": {
        "id": "Ee4UXcb0sHt3"
      },
      "source": [
        "import pandas as pd\n",
        "import numpy as np\n",
        "import scipy.stats as stats\n",
        "from scipy.stats import binom\n",
        "import seaborn as sns\n",
        "import pylab\n",
        "\n",
        "import matplotlib.pyplot as plt\n",
        "%matplotlib inline"
      ],
      "execution_count": null,
      "outputs": []
    },
    {
      "cell_type": "code",
      "metadata": {
        "id": "AA7P9Bg11UbK"
      },
      "source": [
        "loans_income = pd.read_csv('/content/drive/MyDrive/FDS DataSets/loans_income.csv')\n"
      ],
      "execution_count": null,
      "outputs": []
    },
    {
      "cell_type": "code",
      "metadata": {
        "id": "kHnefh9V3YTO"
      },
      "source": [
        "sp500_px = pd.read_csv('/content/sample_data/sp500_px.csv')"
      ],
      "execution_count": null,
      "outputs": []
    },
    {
      "cell_type": "code",
      "metadata": {
        "colab": {
          "base_uri": "https://localhost:8080/",
          "height": 419
        },
        "id": "xqhcig0b6bk7",
        "outputId": "b6d7e0d1-508a-463f-fb7f-5fdfc002b0f5"
      },
      "source": [
        "samples = loans_income.sample(n=1000)\n",
        "samples"
      ],
      "execution_count": null,
      "outputs": [
        {
          "output_type": "execute_result",
          "data": {
            "text/html": [
              "<div>\n",
              "<style scoped>\n",
              "    .dataframe tbody tr th:only-of-type {\n",
              "        vertical-align: middle;\n",
              "    }\n",
              "\n",
              "    .dataframe tbody tr th {\n",
              "        vertical-align: top;\n",
              "    }\n",
              "\n",
              "    .dataframe thead th {\n",
              "        text-align: right;\n",
              "    }\n",
              "</style>\n",
              "<table border=\"1\" class=\"dataframe\">\n",
              "  <thead>\n",
              "    <tr style=\"text-align: right;\">\n",
              "      <th></th>\n",
              "      <th>x</th>\n",
              "    </tr>\n",
              "  </thead>\n",
              "  <tbody>\n",
              "    <tr>\n",
              "      <th>37493</th>\n",
              "      <td>30000</td>\n",
              "    </tr>\n",
              "    <tr>\n",
              "      <th>2066</th>\n",
              "      <td>120000</td>\n",
              "    </tr>\n",
              "    <tr>\n",
              "      <th>36930</th>\n",
              "      <td>34000</td>\n",
              "    </tr>\n",
              "    <tr>\n",
              "      <th>20859</th>\n",
              "      <td>75000</td>\n",
              "    </tr>\n",
              "    <tr>\n",
              "      <th>45778</th>\n",
              "      <td>40320</td>\n",
              "    </tr>\n",
              "    <tr>\n",
              "      <th>...</th>\n",
              "      <td>...</td>\n",
              "    </tr>\n",
              "    <tr>\n",
              "      <th>40605</th>\n",
              "      <td>70000</td>\n",
              "    </tr>\n",
              "    <tr>\n",
              "      <th>40845</th>\n",
              "      <td>108240</td>\n",
              "    </tr>\n",
              "    <tr>\n",
              "      <th>27683</th>\n",
              "      <td>42000</td>\n",
              "    </tr>\n",
              "    <tr>\n",
              "      <th>7477</th>\n",
              "      <td>85000</td>\n",
              "    </tr>\n",
              "    <tr>\n",
              "      <th>48661</th>\n",
              "      <td>21600</td>\n",
              "    </tr>\n",
              "  </tbody>\n",
              "</table>\n",
              "<p>1000 rows × 1 columns</p>\n",
              "</div>"
            ],
            "text/plain": [
              "            x\n",
              "37493   30000\n",
              "2066   120000\n",
              "36930   34000\n",
              "20859   75000\n",
              "45778   40320\n",
              "...       ...\n",
              "40605   70000\n",
              "40845  108240\n",
              "27683   42000\n",
              "7477    85000\n",
              "48661   21600\n",
              "\n",
              "[1000 rows x 1 columns]"
            ]
          },
          "metadata": {},
          "execution_count": 13
        }
      ]
    },
    {
      "cell_type": "code",
      "metadata": {
        "colab": {
          "base_uri": "https://localhost:8080/"
        },
        "id": "tLwPPxI-6oTC",
        "outputId": "94cbc03c-a08f-4181-9698-4676f6de23f7"
      },
      "source": [
        "samples.head"
      ],
      "execution_count": null,
      "outputs": [
        {
          "output_type": "execute_result",
          "data": {
            "text/plain": [
              "<bound method NDFrame.head of             x\n",
              "37493   30000\n",
              "2066   120000\n",
              "36930   34000\n",
              "20859   75000\n",
              "45778   40320\n",
              "...       ...\n",
              "40605   70000\n",
              "40845  108240\n",
              "27683   42000\n",
              "7477    85000\n",
              "48661   21600\n",
              "\n",
              "[1000 rows x 1 columns]>"
            ]
          },
          "metadata": {},
          "execution_count": 14
        }
      ]
    },
    {
      "cell_type": "code",
      "metadata": {
        "colab": {
          "base_uri": "https://localhost:8080/"
        },
        "id": "4dlbgNnQ6tJg",
        "outputId": "2223590f-3bfd-4f5a-aeb3-b7466d50a92c"
      },
      "source": [
        "samples.tail"
      ],
      "execution_count": null,
      "outputs": [
        {
          "output_type": "execute_result",
          "data": {
            "text/plain": [
              "<bound method NDFrame.tail of             x\n",
              "37493   30000\n",
              "2066   120000\n",
              "36930   34000\n",
              "20859   75000\n",
              "45778   40320\n",
              "...       ...\n",
              "40605   70000\n",
              "40845  108240\n",
              "27683   42000\n",
              "7477    85000\n",
              "48661   21600\n",
              "\n",
              "[1000 rows x 1 columns]>"
            ]
          },
          "metadata": {},
          "execution_count": 15
        }
      ]
    },
    {
      "cell_type": "code",
      "metadata": {
        "colab": {
          "base_uri": "https://localhost:8080/"
        },
        "id": "CNM50DZC6zRz",
        "outputId": "4dc77d9b-f0b7-4b84-dfb7-fa948b997b1d"
      },
      "source": [
        "sample_mean_5 = samples.rolling(5).mean().x\n",
        "sample_mean_5"
      ],
      "execution_count": null,
      "outputs": [
        {
          "output_type": "execute_result",
          "data": {
            "text/plain": [
              "37493        NaN\n",
              "2066         NaN\n",
              "36930        NaN\n",
              "20859        NaN\n",
              "45778    59864.0\n",
              "          ...   \n",
              "40605    70438.0\n",
              "40845    85086.0\n",
              "27683    78486.0\n",
              "7477     80248.0\n",
              "48661    65368.0\n",
              "Name: x, Length: 1000, dtype: float64"
            ]
          },
          "metadata": {},
          "execution_count": 17
        }
      ]
    },
    {
      "cell_type": "code",
      "metadata": {
        "colab": {
          "base_uri": "https://localhost:8080/"
        },
        "id": "9IdM8pBq7G19",
        "outputId": "f92c91d0-f15a-4a00-bc5d-638b53a27806"
      },
      "source": [
        "sample_mean_5 = sample_mean_5.dropna()\n",
        "sample_mean_5"
      ],
      "execution_count": null,
      "outputs": [
        {
          "output_type": "execute_result",
          "data": {
            "text/plain": [
              "45778    59864.0\n",
              "14326    70664.0\n",
              "27866    68664.0\n",
              "8516     76864.0\n",
              "7823     75864.0\n",
              "          ...   \n",
              "40605    70438.0\n",
              "40845    85086.0\n",
              "27683    78486.0\n",
              "7477     80248.0\n",
              "48661    65368.0\n",
              "Name: x, Length: 996, dtype: float64"
            ]
          },
          "metadata": {},
          "execution_count": 19
        }
      ]
    },
    {
      "cell_type": "code",
      "metadata": {
        "colab": {
          "base_uri": "https://localhost:8080/"
        },
        "id": "sxGX6_yW7Ygo",
        "outputId": "80bcd190-d654-41ef-ebf9-894973a47e3e"
      },
      "source": [
        "sample_mean_20 = samples.rolling(20).mean().x\n",
        "sample_mean_20 "
      ],
      "execution_count": null,
      "outputs": [
        {
          "output_type": "execute_result",
          "data": {
            "text/plain": [
              "37493        NaN\n",
              "2066         NaN\n",
              "36930        NaN\n",
              "20859        NaN\n",
              "45778        NaN\n",
              "          ...   \n",
              "40605    69789.5\n",
              "40845    71051.5\n",
              "27683    70551.5\n",
              "7477     72451.5\n",
              "48661    69381.5\n",
              "Name: x, Length: 1000, dtype: float64"
            ]
          },
          "metadata": {},
          "execution_count": 20
        }
      ]
    },
    {
      "cell_type": "code",
      "metadata": {
        "colab": {
          "base_uri": "https://localhost:8080/"
        },
        "id": "df_oQPsV7fRl",
        "outputId": "4b08feb6-1614-4e35-fc16-d4b1dc0b4673"
      },
      "source": [
        "sample_mean_20 = sample_mean_20.dropna()\n",
        "sample_mean_20 "
      ],
      "execution_count": null,
      "outputs": [
        {
          "output_type": "execute_result",
          "data": {
            "text/plain": [
              "30350    71720.5\n",
              "7450     75620.5\n",
              "11242    71720.5\n",
              "11077    74270.5\n",
              "46667    74520.5\n",
              "          ...   \n",
              "40605    69789.5\n",
              "40845    71051.5\n",
              "27683    70551.5\n",
              "7477     72451.5\n",
              "48661    69381.5\n",
              "Name: x, Length: 981, dtype: float64"
            ]
          },
          "metadata": {},
          "execution_count": 21
        }
      ]
    },
    {
      "cell_type": "code",
      "metadata": {
        "colab": {
          "base_uri": "https://localhost:8080/"
        },
        "id": "a6EY-TJV7s_y",
        "outputId": "8ddda26e-d07b-4b08-aad8-96f1d058652d"
      },
      "source": [
        "sample_mean_30 = samples.rolling(30).mean().x\n",
        "sample_mean_30"
      ],
      "execution_count": null,
      "outputs": [
        {
          "output_type": "execute_result",
          "data": {
            "text/plain": [
              "37493             NaN\n",
              "2066              NaN\n",
              "36930             NaN\n",
              "20859             NaN\n",
              "45778             NaN\n",
              "             ...     \n",
              "40605    69723.000000\n",
              "40845    67497.666667\n",
              "27683    67377.666667\n",
              "7477     66794.333333\n",
              "48661    66247.666667\n",
              "Name: x, Length: 1000, dtype: float64"
            ]
          },
          "metadata": {},
          "execution_count": 22
        }
      ]
    },
    {
      "cell_type": "code",
      "metadata": {
        "colab": {
          "base_uri": "https://localhost:8080/"
        },
        "id": "oOEjzKvp7vjV",
        "outputId": "d5a8bb1b-37eb-4760-fb2c-41c5f7ca5fde"
      },
      "source": [
        "sample_mean_30 = sample_mean_30.dropna()\n",
        "sample_mean_30"
      ],
      "execution_count": null,
      "outputs": [
        {
          "output_type": "execute_result",
          "data": {
            "text/plain": [
              "28667    75742.733333\n",
              "19254    78076.066667\n",
              "17415    75909.400000\n",
              "47938    78240.600000\n",
              "21990    78907.266667\n",
              "             ...     \n",
              "40605    69723.000000\n",
              "40845    67497.666667\n",
              "27683    67377.666667\n",
              "7477     66794.333333\n",
              "48661    66247.666667\n",
              "Name: x, Length: 971, dtype: float64"
            ]
          },
          "metadata": {},
          "execution_count": 23
        }
      ]
    },
    {
      "cell_type": "code",
      "metadata": {
        "colab": {
          "base_uri": "https://localhost:8080/",
          "height": 607
        },
        "id": "BDaurPEd74WO",
        "outputId": "0bd3d144-df1b-4f7d-c3a7-14734e5426e6"
      },
      "source": [
        "fig = plt.figure(figsize=(10,10))\n",
        "#The full distribution of the plot:\n",
        "ax = fig.add_subplot(2,2,1)\n",
        "ax.hist(loans_income.x,bins=25)\n",
        "plt.title('Full Plot of the whole DATAFRAME')\n",
        "ax = fig.add_subplot(2,2,2)\n",
        "ax.hist(samples.x,bins=40)\n",
        "plt.title('Full Plot of the 1000 samples')\n",
        "\n",
        "#distribution of means of 5 numbers from 1000 samples:\n",
        "ax = fig.add_subplot(2,2,3)\n",
        "ax.hist(sample_mean_5,bins=40)\n",
        "plt.title('Plot of Rolling Mean 5 of the 1000 samples')\n",
        "\n",
        "#distribution of means of 20 numbers from 1000 samples:\n",
        "ax = fig.add_subplot(2,2,4)\n",
        "ax.hist(sample_mean_20,bins=40,label='Mean of 20')\n",
        "ax.hist(sample_mean_30,bins=40,label='Mean of 30')\n",
        "plt.title('Plot of Rolling Mean 20 and 30 of the 1000 samples')\n",
        "ax.legend()\n",
        "plt.show()\n",
        "\n",
        "plt.show()"
      ],
      "execution_count": null,
      "outputs": [
        {
          "output_type": "display_data",
          "data": {
            "image/png": "[encoded data removed]",
            "text/plain": [
              "<Figure size 720x720 with 4 Axes>"
            ]
          },
          "metadata": {
            "needs_background": "light"
          }
        }
      ]
    },
    {
      "cell_type": "code",
      "metadata": {
        "colab": {
          "base_uri": "https://localhost:8080/",
          "height": 403
        },
        "id": "gphj0phE8PlC",
        "outputId": "3a861c62-5e70-4990-f5e4-3b385a4e8569"
      },
      "source": [
        ""
      ],
      "execution_count": null,
      "outputs": [
        {
          "output_type": "stream",
          "name": "stderr",
          "text": [
            "/usr/local/lib/python3.7/dist-packages/ipykernel_launcher.py:1: MatplotlibDeprecationWarning: Adding an axes using the same arguments as a previous axes currently reuses the earlier instance.  In a future version, a new instance will always be created and returned.  Meanwhile, this warning can be suppressed, and the future behavior ensured, by passing a unique label to each axes instance.\n",
            "  \"\"\"Entry point for launching an IPython kernel.\n",
            "/usr/local/lib/python3.7/dist-packages/ipykernel_launcher.py:6: MatplotlibDeprecationWarning: Adding an axes using the same arguments as a previous axes currently reuses the earlier instance.  In a future version, a new instance will always be created and returned.  Meanwhile, this warning can be suppressed, and the future behavior ensured, by passing a unique label to each axes instance.\n",
            "  \n",
            "/usr/local/lib/python3.7/dist-packages/ipykernel_launcher.py:11: MatplotlibDeprecationWarning: Adding an axes using the same arguments as a previous axes currently reuses the earlier instance.  In a future version, a new instance will always be created and returned.  Meanwhile, this warning can be suppressed, and the future behavior ensured, by passing a unique label to each axes instance.\n",
            "  # This is added back by InteractiveShellApp.init_path()\n"
          ]
        },
        {
          "output_type": "display_data",
          "data": {
            "image/png": "[encoded data removed]",
            "text/plain": [
              "<Figure size 432x288 with 1 Axes>"
            ]
          },
          "metadata": {
            "needs_background": "light"
          }
        }
      ]
    },
    {
      "cell_type": "code",
      "metadata": {
        "colab": {
          "base_uri": "https://localhost:8080/"
        },
        "id": "z7gWJsXx_EjS",
        "outputId": "0f0f3d6c-cd16-46e9-df00-330d0cba2e8f"
      },
      "source": [
        "#Calculating a rolling mean:\n",
        "print('Total Population STD : ',loans_income.x.std())\n",
        "print('Total Population Mean : ',loans_income.x.mean())\n",
        "print('Total Population Median : ',np.median(loans_income.x))\n",
        "print('Total Population Standard Error:',stats.sem(loans_income.x, ddof=1))"
      ],
      "execution_count": null,
      "outputs": [
        {
          "output_type": "stream",
          "name": "stdout",
          "text": [
            "Total Population STD :  32872.03536985002\n",
            "Total Population Mean :  68760.51844\n",
            "Total Population Median :  62000.0\n",
            "Total Population Standard Error: 147.00821129152527\n"
          ]
        }
      ]
    },
    {
      "cell_type": "code",
      "metadata": {
        "id": "rdKLirfC_MYc"
      },
      "source": [
        "bootstrap_1000 = np.random.choice(loans_income.x,size=1000,replace=True)\n",
        "bootstrap_10000 = np.random.choice(loans_income.x,size=10000,replace=True)\n",
        "bootstrap_20000 = np.random.choice(loans_income.x,size=20000,replace=True)"
      ],
      "execution_count": null,
      "outputs": []
    },
    {
      "cell_type": "code",
      "metadata": {
        "colab": {
          "base_uri": "https://localhost:8080/"
        },
        "id": "qLT08Kws_TSU",
        "outputId": "135a9799-5422-4227-a25c-2cf3e4aabd22"
      },
      "source": [
        "bootstrap_1000"
      ],
      "execution_count": null,
      "outputs": [
        {
          "output_type": "execute_result",
          "data": {
            "text/plain": [
              "array([ 43000,  84660,  84012,  67000,  58000,  63750,  70000,  38756,\n",
              "       148000, 157000,  85000,  32000,  54000,  74400,  50000,  61500,\n",
              "        69500,  52000,  95000, 119000,  50000,  67000, 120000,  60825,\n",
              "        39000,  38000,  38000,  42000, 140000,  67000,  48000,  66500,\n",
              "        36000, 120000,  72000,  95000,  54000,  52500,  34000,  55000,\n",
              "        75000,  80000,  40000,  71000,  40000,  80000, 120000, 120000,\n",
              "        60000,  70000,  42000,  90000,  55000,  80000,  46100,  80000,\n",
              "        75000,  40000,  30000,  45000, 111000,  30000,  45000, 100000,\n",
              "        70000,  68000, 124000,  65000,  47300,  36000,  35490,  74098,\n",
              "        74000,  60000,  99135,  65000,  48000,  21000,  76000,  18720,\n",
              "        32640,  70000,  40000,  60000, 115000,  65000,  35000,  50000,\n",
              "        58760,  55000, 125016,  56000,  30000, 147000,  30000,  50715,\n",
              "        28993,  60000,  21000,  27000,  65000,  16000,  60000,  91000,\n",
              "        16000,  45672,  60000,  80000,  55000,  19500,  70000,  40000,\n",
              "        54000, 155000,  79000, 104000,  47616,  40000,  32500, 180000,\n",
              "        45000,  44000,  49000,  47000,  72000,  40000,  31200,  82000,\n",
              "        42000,  80000, 159883,  40000,  25000, 165000,  54000,  80000,\n",
              "        90000,  53400,  60000,  64000,  36000,  33000,  65000,  72000,\n",
              "        54000,  69000,  48000,  90000,  93500, 105000,  52000,  70000,\n",
              "        75000,  62000,  40000,  50000, 140000,  60277,  92000, 175000,\n",
              "        57800,  45000, 100000,  70000, 127000,  45000,  67600,  70000,\n",
              "       152000,  37000,  80000,  43000,  40000,  46000,  53750,  45000,\n",
              "        40000,  52000,  30000,  85000,  55000, 100000,  80000,  86000,\n",
              "        56000,  48000,  55000,  65000,  56000,  54000,  96143,  45000,\n",
              "        22000,  65000,  42000,  90000,  50000, 167000,  64000, 130000,\n",
              "        44000,  82000, 107000,  70000, 136000,  35000,  90000,  40000,\n",
              "        85000, 120000,  27000,  24000,  80000, 126998,  41500, 125000,\n",
              "        62758, 139000,  30000,  88000,  60000, 125000,  74000,  95000,\n",
              "        34776,  77000,  42000, 180000,  50000,  60000,  53560,  76500,\n",
              "        65000,  43500,  80000,  38000,  91210,  65500, 104000,  76000,\n",
              "       120000,  32000,  45000,  48000,  55000,  47715,  53000,  22000,\n",
              "        51000,  35000,  33600, 111000,  42000,  72000,  38147,  40000,\n",
              "       100000,  50000,  50000,  65000,  40000,  30000,  52548,  95000,\n",
              "        76000,  55000,  46000, 120000, 125000, 100000, 127000,  30000,\n",
              "        43000,  82300,  57000, 110000,  30000,  80000,  36000,  38000,\n",
              "        90000,  36000,  42500,  36600, 120000,  25000,  65000,  50000,\n",
              "        38000,  35000,  56000,  68703,  40720,  76000,  75000,  50000,\n",
              "        80000, 160000,  56000,  87000, 144842,  85000,  42000,  77000,\n",
              "        60000,  45000,  42000, 130000,  39000,  18000,  57000,  50000,\n",
              "        99500, 117000,  32000,  25000,  35004,  50000,  36200,  59000,\n",
              "        42000,  50000,  72000,  32000, 100000,  48000,  37000,  41500,\n",
              "        47000, 131000,  46000, 175000,  45000, 120000,  89423, 175000,\n",
              "        41000,  78404,  80815,  44000,  81996,  54000,  34800,  45000,\n",
              "        60000,  28500,  35000,  52000,  30000,  98500,  96000,  47840,\n",
              "       106000, 127000, 110000,  42000,  26880,  72000,  40000,  64329,\n",
              "        83000,  63000,  61755,  90000,  53000,  16656,  62594, 155000,\n",
              "        52000,  18000,  17998,  33000, 140000,  75000,  54000,  36000,\n",
              "        70000,  85000,  55000,  40000,  24000,  75753,  51000, 145000,\n",
              "        85000,  27000,  38000, 115000,  85000,  69000, 175000,  40000,\n",
              "        85959,  65000,  75000,  22880,  94000,  91000,  65000,  90000,\n",
              "       104000,  70000,  78500, 197500,  99000,  56000,  45000,  41964,\n",
              "        42250,  21600,  48000, 115000,  39000,  50000,  43000,  55000,\n",
              "        50000,  50000,  35000,  36498,  72000,  51000,  38000,  70000,\n",
              "       107000,  70000,  52000,  35000,  65000,  63000,  42000,  42000,\n",
              "        47740,  36791,  65000,  65000,  15372,  85000,  65000,  38000,\n",
              "       100000, 124000,  65000, 100000,  26000, 114000,  22852,  68000,\n",
              "        85000, 100000,  70000,  81000, 180000,  95000,  55000, 115000,\n",
              "        26000, 140000, 114000,  77903,  15480,  46000,  25000,  67000,\n",
              "        75000,  42000,  58500,  80000,  47000,  49000,  36500,  60000,\n",
              "       110000,  92000,  40000,  74000,  62000,  63000,  45000,  42000,\n",
              "        50000,  40000,  62000,  58000,  50000,  48180,  73000, 105000,\n",
              "        40000,  82000,  70000, 180000,  38000,  51000,  44000,  46000,\n",
              "        39000,  75000,  55000,  69000,  41600,  95000,  41000, 150000,\n",
              "        49000,  59000,  35000,  75000,  75000,  59000,  72000,  90996,\n",
              "        91700,  33400,  91936,  92500,  85000,  95000,  95000,  57000,\n",
              "        42000,  52000,  45000, 160000,  63154, 110000,  61000,  60000,\n",
              "        35000, 115000,  69000,  80000,  64000,  54000, 147000,  95000,\n",
              "        46000,  98000,  70000,  60000,  36000,  46000, 135000,  70000,\n",
              "       150000, 100000,  73500,  63000,  42000,  55000, 105000,  60000,\n",
              "        84000, 100000,  45000,  21000,  74000,  12000,  55000,  63000,\n",
              "       100000, 150000,  63000,  41400,  35000,  72500,  75000, 120000,\n",
              "        31200,  95000,  43000,  66000, 161304,  58000, 101840, 100000,\n",
              "        47250,  33500,  40000, 116800,  45000,  50000,  28000,  49572,\n",
              "        39200,  75928,  90000,  60000,  72000,  30000,  31320, 107000,\n",
              "        45000,  36000, 104101,  65000,  86302,  38000,  48000,  50000,\n",
              "        32666, 140000,  48000,  76000,  24000,  40500,  43000,  72500,\n",
              "        75600,  21184,  70000,  26200,  28000,  59000,  75000,  43000,\n",
              "        68000,  92000,  98200,  50000, 164502,  93500,  29000,  45000,\n",
              "        65000,  76660,  23000,  77000,  92000,  45504, 155000, 114053,\n",
              "        20000,  68000, 108000,  87500,  50000,  46000,  70000,  51000,\n",
              "        60000,  39600,  65000,  85000,  60000,  50000,  65000,  42000,\n",
              "       100000,  90000,  50000,  35379,  85000,  39000,  30000,  43937,\n",
              "       110000,  32000,  25000,  60000,  62182,  62000,  81996,  77000,\n",
              "        85000,  60000,  45000,  87700,  45000,  40000, 123000,  76000,\n",
              "        60000,  63000,  60000,  82000,  50000,  44000,  65000,  39000,\n",
              "        77000,  42000, 125000,  55000,  76000,  25945,  75000,  75000,\n",
              "        42000,  45000,  32000,  72000,  46600,  35000,  90000,  36000,\n",
              "        45000,  55000,  47000,  60000, 100000,  40000,  50000,  72000,\n",
              "        66000, 140000,  45000,  61763, 110000,  52000,  38000, 123000,\n",
              "        55000,  29000,  65000, 155000,  21000,  92000,  75000, 101500,\n",
              "        89000, 125000,  81400,  36742,  65000,  56000,  75000,  15600,\n",
              "        48000,  60000,  70000,  36000,  95000,  36000,  64000,  70000,\n",
              "        33990, 165000, 175600, 117500,  81000,  40000, 103500, 128000,\n",
              "        45000,  65000,  75000,  82500, 165000,  52000,  43607,  80000,\n",
              "        98000,  46500,  40000,  35000,  82000,  60000,  30000,  55000,\n",
              "       100000,  61000, 158000,  80000,  50000,  70000,  36000,  96000,\n",
              "        88000,  40000,  98000, 180000, 122000,  50000, 175000,  15000,\n",
              "        60000,  38244,  34000,  70000,  69000,  77424,  94000,  65000,\n",
              "        65000,  80000,  25000,  70000,  29000,  46000,  30000,  25000,\n",
              "        40000,  50000,  32000,  30000, 105000,  48000,  21000, 130000,\n",
              "       140000,  38000,  36000, 100000, 118000,  59527,  81800,  49000,\n",
              "        65000,  35000,  24000,  90000,  28000,  90000,  60000,  60000,\n",
              "        85000, 130000,  60000,  47186,  57000,  60000, 110000, 160000,\n",
              "        39000,  59000,  40000,  55000,  61000, 125000,  85000,  90000,\n",
              "        93930, 108000, 115000,  67000,  60000,  40000, 107000,  46000,\n",
              "       145000,  40000,  24000,  35000,  17500, 120000,  65000,  70000,\n",
              "        65000, 104000,  36000,  97000,  55000, 129100,  50707,  54000,\n",
              "        40000,  46128,  40000,  60000,  39000,  45000,  45000,  40000,\n",
              "        45000,  20000,  50000,  40000,  75000,  40000,  86000,  34000,\n",
              "        52000, 102819,  90200,  40000,  45000,  96000,  56000,  50000,\n",
              "        35000,  50000,  33000,  30000,  70000,  40196,  60000,  50000,\n",
              "        85000,  50000,  54100, 140000,  92000,  25000,  55000,  49918,\n",
              "        37000,  96456,  75000,  35000,  45358,  90000,  94000,  55000,\n",
              "        87000, 196000,  41000,  90000, 115000,  40000,  45000,  85000,\n",
              "       160000,  74349,  61000, 150000,  49600, 130000, 115000,  40000,\n",
              "        44500, 140000, 120000, 120000, 150000,  45700,  50000,  50000,\n",
              "        75000, 120000,  45000,  48000,  75000,  90000,  60000,  50000,\n",
              "       125000,  79000,  95000,  75000,  76000,  80000,  70000,  94176,\n",
              "        90000,  47000,  20000,  68000,  60520,  40000, 180000,  85000,\n",
              "       130000,  26400,  50000,  55000, 170000,  59000,  75000,  99500,\n",
              "        48000,  80456,  27000,  73310,  70000,  95500, 105000, 103000,\n",
              "        47000,  50000,  47000,  39000,  45000,  45000, 105000,  70000,\n",
              "       110000, 140000, 108000, 147000,  90000,  37000,  42000, 145000,\n",
              "        51615,  75000,  55300,  35000,  83000,  45760, 110000,  31500,\n",
              "        90000,  42000,  41500,  65000,  40000,  52000,  86400,  58000])"
            ]
          },
          "metadata": {},
          "execution_count": 33
        }
      ]
    },
    {
      "cell_type": "code",
      "metadata": {
        "colab": {
          "base_uri": "https://localhost:8080/"
        },
        "id": "MNY7Qr5n_WAR",
        "outputId": "a6e7a2e1-b8dd-4208-b9d1-de02272ec2a0"
      },
      "source": [
        "bootstrap_10000.shape"
      ],
      "execution_count": null,
      "outputs": [
        {
          "output_type": "execute_result",
          "data": {
            "text/plain": [
              "(10000,)"
            ]
          },
          "metadata": {},
          "execution_count": 35
        }
      ]
    },
    {
      "cell_type": "code",
      "metadata": {
        "colab": {
          "base_uri": "https://localhost:8080/"
        },
        "id": "aCZXmXya_kNw",
        "outputId": "30323af6-3f1e-4156-e264-059693a11819"
      },
      "source": [
        "arr_bootstraps = [bootstrap_1000,bootstrap_10000,bootstrap_20000]\n",
        "len(arr_bootstraps)"
      ],
      "execution_count": null,
      "outputs": [
        {
          "output_type": "execute_result",
          "data": {
            "text/plain": [
              "3"
            ]
          },
          "metadata": {},
          "execution_count": 36
        }
      ]
    },
    {
      "cell_type": "code",
      "metadata": {
        "colab": {
          "base_uri": "https://localhost:8080/"
        },
        "id": "z5NWa2EH_46M",
        "outputId": "5764de77-7c6f-4eb7-b430-485c99490314"
      },
      "source": [
        "#Calculating a rolling mean:\n",
        "for i in range(len(arr_bootstraps)):\n",
        "    print('Bootstrap Stats for {} examples \\n'.format(len(arr_bootstraps[i])))\n",
        "    print('------------------------------------------------------------------------------\\n')\n",
        "    print('Bootstrap STD : ',np.std(arr_bootstraps[i],ddof=1))\n",
        "    print('Bootstrap Mean : ',np.mean(arr_bootstraps[i]))\n",
        "    print('Bootstrap Median: ',np.median(arr_bootstraps[i]))\n",
        "    print('Boostrap Bias, ',loans_income.x.mean() - np.mean(arr_bootstraps[i],axis=0))\n",
        "    print('Standard Error:',stats.sem(arr_bootstraps[i], ddof=1))\n",
        "    print('\\n------------------------------------------------------------------------------\\n')\n"
      ],
      "execution_count": null,
      "outputs": [
        {
          "output_type": "stream",
          "name": "stdout",
          "text": [
            "Bootstrap Stats for 1000 examples \n",
            "\n",
            "------------------------------------------------------------------------------\n",
            "\n",
            "Bootstrap STD :  34247.27808815806\n",
            "Bootstrap Mean :  68454.896\n",
            "Bootstrap Median:  60000.0\n",
            "Boostrap Bias,  305.62244000000646\n",
            "Standard Error: 1082.9940241975628\n",
            "\n",
            "------------------------------------------------------------------------------\n",
            "\n",
            "Bootstrap Stats for 10000 examples \n",
            "\n",
            "------------------------------------------------------------------------------\n",
            "\n",
            "Bootstrap STD :  33398.97544233639\n",
            "Bootstrap Mean :  69293.8468\n",
            "Bootstrap Median:  62400.0\n",
            "Boostrap Bias,  -533.3283599999995\n",
            "Standard Error: 333.98975442336393\n",
            "\n",
            "------------------------------------------------------------------------------\n",
            "\n",
            "Bootstrap Stats for 20000 examples \n",
            "\n",
            "------------------------------------------------------------------------------\n",
            "\n",
            "Bootstrap STD :  32948.70165810502\n",
            "Bootstrap Mean :  68590.73735\n",
            "Bootstrap Median:  62000.0\n",
            "Boostrap Bias,  169.78109000000404\n",
            "Standard Error: 232.982503737385\n",
            "\n",
            "------------------------------------------------------------------------------\n",
            "\n"
          ]
        }
      ]
    },
    {
      "cell_type": "code",
      "metadata": {
        "colab": {
          "base_uri": "https://localhost:8080/",
          "height": 295
        },
        "id": "vo3kkxDNDGnH",
        "outputId": "4673ed69-8fbe-4cac-99fe-cb3e706504f2"
      },
      "source": [
        "stats.probplot(loans_income.x, dist=\"norm\", plot=pylab)\n",
        "pylab.show()"
      ],
      "execution_count": null,
      "outputs": [
        {
          "output_type": "display_data",
          "data": {
            "image/png": "[encoded data removed]",
            "text/plain": [
              "<Figure size 432x288 with 1 Axes>"
            ]
          },
          "metadata": {
            "needs_background": "light"
          }
        }
      ]
    },
    {
      "cell_type": "code",
      "metadata": {
        "colab": {
          "base_uri": "https://localhost:8080/",
          "height": 295
        },
        "id": "fAldq2oHDyUV",
        "outputId": "42102725-deb3-4ec7-bc2d-9f7e4e23f09a"
      },
      "source": [
        "measurements = np.random.normal(loc = 20, scale = 5, size=100)   \n",
        "stats.probplot(measurements, dist=\"norm\", plot=pylab)\n",
        "pylab.show()"
      ],
      "execution_count": null,
      "outputs": [
        {
          "output_type": "display_data",
          "data": {
            "image/png": "[encoded data removed]",
            "text/plain": [
              "<Figure size 432x288 with 1 Axes>"
            ]
          },
          "metadata": {
            "needs_background": "light"
          }
        }
      ]
    },
    {
      "cell_type": "code",
      "metadata": {
        "id": "65wBFxNBEa78"
      },
      "source": [
        "nflx = sp500_px.loc[:,'NFLX']"
      ],
      "execution_count": null,
      "outputs": []
    },
    {
      "cell_type": "code",
      "metadata": {
        "colab": {
          "base_uri": "https://localhost:8080/",
          "height": 295
        },
        "id": "koHxpXBJE2aN",
        "outputId": "e1d7e418-47ac-4971-f34e-a8f674db9762"
      },
      "source": [
        "stats.probplot(nflx, dist=\"norm\", plot=pylab)\n",
        "pylab.show()"
      ],
      "execution_count": null,
      "outputs": [
        {
          "output_type": "display_data",
          "data": {
            "image/png": "[encoded data removed]",
            "text/plain": [
              "<Figure size 432x288 with 1 Axes>"
            ]
          },
          "metadata": {
            "needs_background": "light"
          }
        }
      ]
    },
    {
      "cell_type": "code",
      "metadata": {
        "id": "vFnnDYrLFnZN",
        "outputId": "34891c0d-bc2d-4357-c5b7-8d844a9c5004",
        "colab": {
          "base_uri": "https://localhost:8080/",
          "height": 417
        }
      },
      "source": [
        "treated_nflx = np.diff(np.log(nflx))\n",
        "stats.probplot(treated_nflx, dist=\"norm\", plot=pylab,fit=True)\n",
        "pylab.show()"
      ],
      "execution_count": null,
      "outputs": [
        {
          "output_type": "stream",
          "name": "stderr",
          "text": [
            "/usr/local/lib/python3.7/dist-packages/pandas/core/series.py:726: RuntimeWarning: divide by zero encountered in log\n",
            "  result = getattr(ufunc, method)(*inputs, **kwargs)\n",
            "/usr/local/lib/python3.7/dist-packages/pandas/core/series.py:726: RuntimeWarning: invalid value encountered in log\n",
            "  result = getattr(ufunc, method)(*inputs, **kwargs)\n",
            "/usr/local/lib/python3.7/dist-packages/numpy/lib/function_base.py:1280: RuntimeWarning: invalid value encountered in subtract\n",
            "  a = op(a[slice1], a[slice2])\n"
          ]
        },
        {
          "output_type": "display_data",
          "data": {
            "image/png": "[encoded data removed]",
            "text/plain": [
              "<Figure size 432x288 with 1 Axes>"
            ]
          },
          "metadata": {
            "needs_background": "light"
          }
        }
      ]
    }
  ]
}